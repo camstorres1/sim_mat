{
 "cells": [
  {
   "cell_type": "markdown",
   "id": "b0555e28-7c88-46fa-9e97-6eb5cb9f1a4f",
   "metadata": {},
   "source": [
    "# TAREA 04 \n",
    "# CAMILA TORRES\n",
    "# 12 DE SEPTIEMBRE DE 2024"
   ]
  },
  {
   "cell_type": "markdown",
   "id": "558eeb76-970b-442e-9604-9d2c9c696af8",
   "metadata": {},
   "source": [
    "## ACTIVIDAD 5"
   ]
  },
  {
   "cell_type": "markdown",
   "id": "23d8a618-a067-4e16-9f9f-f352695c66c2",
   "metadata": {},
   "source": [
    "#### EJERCICIO 1"
   ]
  },
  {
   "cell_type": "markdown",
   "id": "5e4e9e53-b14b-4196-8d3f-59f19c3f9805",
   "metadata": {},
   "source": [
    "#### Se quiere producir comida para gatos de la manera más barata, no obstante se debe también asegurar que se cumplan los datos requeridos de analisis nutricional. Por lo que se quiere variar la cantidad de cada ingrediente para cumplir con los estandares nutricionales. Los requisitos que se tienen es que en 100 gramos, se deben tener por lo menos 9 gramos de proteína y  7 gramos de grasa. Así mismo, no se debe tener más de 2.5 gramos de fibra y 0.5 gramos de sal."
   ]
  },
  {
   "cell_type": "markdown",
   "id": "a6b0495b-4a59-4bd2-8168-61b059922f27",
   "metadata": {},
   "source": [
    "$$ \\min_{p, m, c, a, t, g}  0.012p + 0.009m + 0.010c + 0.003a + 0.005t + 0.002g$$\n",
    "$$ \\text{s.t.} $$\n",
    "$$ p + m + c + a + t + g = 100 $$\n",
    "$$ -0.10p - 0.20m - 0.15c - 0.04t \\leq -9 $$\n",
    "$$ -0.08p - 0.10m - 0.11c - 0.01a - 0.01t \\leq -7 $$\n",
    "$$ 0.001p + .005m + 0.005c + 0.10a + 0.15t \\leq 2.5 $$\n",
    "$$ 0.002p + 0.005m + 0.007c + 0.002a + 0.008t \\leq 0.5 $$"
   ]
  },
  {
   "cell_type": "code",
   "execution_count": 22,
   "id": "5637f02e-60e7-4be9-b7d2-cb68cbaaf6fe",
   "metadata": {},
   "outputs": [
    {
     "data": {
      "text/plain": [
       "        message: Optimization terminated successfully. (HiGHS Status 7: Optimal)\n",
       "        success: True\n",
       "         status: 0\n",
       "            fun: 0.63\n",
       "              x: [ 0.000e+00  7.000e+01  0.000e+00  0.000e+00  0.000e+00\n",
       "                   0.000e+00]\n",
       "            nit: 1\n",
       "          lower:  residual: [ 0.000e+00  7.000e+01  0.000e+00  0.000e+00\n",
       "                              0.000e+00  0.000e+00]\n",
       "                 marginals: [ 4.800e-03  0.000e+00  1.000e-04  2.100e-03\n",
       "                              4.100e-03  2.000e-03]\n",
       "          upper:  residual: [       inf        inf        inf        inf\n",
       "                                    inf        inf]\n",
       "                 marginals: [ 0.000e+00  0.000e+00  0.000e+00  0.000e+00\n",
       "                              0.000e+00  0.000e+00]\n",
       "          eqlin:  residual: []\n",
       "                 marginals: []\n",
       "        ineqlin:  residual: [ 3.000e+01  5.000e+00  0.000e+00  2.150e+00\n",
       "                              1.500e-01]\n",
       "                 marginals: [-0.000e+00 -0.000e+00 -9.000e-02 -0.000e+00\n",
       "                             -0.000e+00]\n",
       " mip_node_count: 0\n",
       " mip_dual_bound: 0.0\n",
       "        mip_gap: 0.0"
      ]
     },
     "execution_count": 22,
     "metadata": {},
     "output_type": "execute_result"
    }
   ],
   "source": [
    "import numpy as np\n",
    "c = np.array([\n",
    "    0.012, \n",
    "    0.009, \n",
    "    0.010, \n",
    "    0.003,\n",
    "    0.005,\n",
    "    0.002\n",
    "])\n",
    "# A va a tener tantos renglones como restricciones y b tendrá tantas columnas como variables\n",
    "Aub = np.array([\n",
    "    [  1.000,  1.000, 1.000,  1.000,  1.000, 1],\n",
    "    [ -0.100, -0.200,-0.150,  0.000, -0.040, 0],\n",
    "    [ -0.080, -0.100,-0.110, -0.010, -0.010, 0],\n",
    "    [  0.001,  0.005, 0.005,  0.100,  0.150, 0],\n",
    "    [  0.002,  0.005, 0.007,  0.002,  0.008, 0]\n",
    "])\n",
    "\n",
    "bub = np.array([\n",
    "     100, \n",
    "      -9,\n",
    "      -7,\n",
    "     2.5,\n",
    "     0.5,\n",
    "]) \n",
    "\n",
    "import scipy.optimize as opt\n",
    "sol = opt.linprog(c, Aub, bub)\n",
    "sol\n",
    "# sol.x es solo el resultado en x"
   ]
  },
  {
   "cell_type": "markdown",
   "id": "86920e42-6747-400d-8cb1-a04f65d041c3",
   "metadata": {},
   "source": [
    "#### EJERCICIO 2"
   ]
  },
  {
   "cell_type": "markdown",
   "id": "f0aefa9b-b5cd-443e-ad58-f82acf875f1c",
   "metadata": {},
   "source": [
    "#### La Comisión Federal de Electricidad (CFE) dispone de tres plantas de generación para satisfacer la demanda diaria eléctrica en tres ciudades, Guadalajara, León y Morelia. Las plantas 1, 2 y 3 pueden satisfacer 75, 50 y 60 millones de kW al día respectivamente. Las necesidades de las ciudades de Guadalajara, León y Morelia son de 60, 45 y 60 millones de Kw al día respectivamente. Los costos asociados al envío de suministro energético por cada millón de kW entre cada planta y cada ciudad son los registrados en la siguiente tabla.a."
   ]
  },
  {
   "cell_type": "markdown",
   "id": "630b5f64-433d-4a21-a668-c6afb2366bd5",
   "metadata": {},
   "source": [
    "$$ \\min_{$p_1g, p_1l, p_1m, p_2g, p_2l, p_2m, p_3g, p_3l, p_3m$}  5p_1g + 2p_1l + 7p_1m + 3p_2g + 4p_2l + 5p_2m + 5p_3g + 2p_3l + 3p_3m$$\n",
    "$$ \\text{s.t.} $$\n",
    "$$ p_1g + p_1m + p_1l \\leq 75 $$\n",
    "$$ p_2g + p_2m + p_2l \\leq 50 $$\n",
    "$$ p_3g + p_3m + p_3l \\leq 60 $$\n",
    "\n",
    "$$ -p_1g + -p_2g + -p_3g \\leq -60 $$\n",
    "$$ -p_1l + -p_2l + -p_3l \\leq -45 $$\n",
    "$$ -p_1m + -p_2m + -p_3m \\leq -60 $$"
   ]
  },
  {
   "cell_type": "code",
   "execution_count": 10,
   "id": "4986c2a7-329f-4aa8-a505-5f178bdc0e83",
   "metadata": {},
   "outputs": [
    {
     "data": {
      "text/plain": [
       "        message: Optimization terminated successfully. (HiGHS Status 7: Optimal)\n",
       "        success: True\n",
       "         status: 0\n",
       "            fun: 470.0\n",
       "              x: [ 1.000e+01  4.500e+01  0.000e+00  5.000e+01  0.000e+00\n",
       "                   0.000e+00  0.000e+00  0.000e+00  6.000e+01]\n",
       "            nit: 4\n",
       "          lower:  residual: [ 1.000e+01  4.500e+01  0.000e+00  5.000e+01\n",
       "                              0.000e+00  0.000e+00  0.000e+00  0.000e+00\n",
       "                              6.000e+01]\n",
       "                 marginals: [ 0.000e+00  0.000e+00  4.000e+00  0.000e+00\n",
       "                              4.000e+00  4.000e+00  0.000e+00  0.000e+00\n",
       "                              0.000e+00]\n",
       "          upper:  residual: [       inf        inf        inf        inf\n",
       "                                    inf        inf        inf        inf\n",
       "                                    inf]\n",
       "                 marginals: [ 0.000e+00  0.000e+00  0.000e+00  0.000e+00\n",
       "                              0.000e+00  0.000e+00  0.000e+00  0.000e+00\n",
       "                              0.000e+00]\n",
       "          eqlin:  residual: []\n",
       "                 marginals: []\n",
       "        ineqlin:  residual: [ 2.000e+01  0.000e+00  0.000e+00  0.000e+00\n",
       "                              0.000e+00  0.000e+00]\n",
       "                 marginals: [-0.000e+00 -2.000e+00 -0.000e+00 -5.000e+00\n",
       "                             -2.000e+00 -3.000e+00]\n",
       " mip_node_count: 0\n",
       " mip_dual_bound: 0.0\n",
       "        mip_gap: 0.0"
      ]
     },
     "execution_count": 10,
     "metadata": {},
     "output_type": "execute_result"
    }
   ],
   "source": [
    "import numpy as np\n",
    "c = np.array([\n",
    "    5, \n",
    "    2, \n",
    "    7, \n",
    "    3,\n",
    "    4,\n",
    "    5,\n",
    "    5,\n",
    "    2,\n",
    "    3\n",
    "])\n",
    "# A va a tener tantos renglones como restricciones y b tendrá tantas columnas como variables\n",
    "Aub = np.array([\n",
    "    [ 1,  1,  1,  0,  0,  0,  0,  0,  0],\n",
    "    [ 0,  0,  0,  1,  1,  1,  0,  0,  0],\n",
    "    [ 0,  0,  0,  0,  0,  0,  1,  1,  1],\n",
    "    [-1,  0,  0, -1,  0,  0, -1,  0,  0],\n",
    "    [ 0, -1,  0,  0, -1,  0,  0, -1,  0],\n",
    "    [ 0,  0, -1,  0,  0, -1,  0,  0, -1]\n",
    "])\n",
    "\n",
    "bub = np.array([\n",
    "     75, \n",
    "     50,\n",
    "     60,\n",
    "    -60,\n",
    "    -45,\n",
    "    -60\n",
    "]) \n",
    "\n",
    "import scipy.optimize as opt\n",
    "sol = opt.linprog(c, Aub, bub)\n",
    "sol\n",
    "# sol.x es solo el resultado en x"
   ]
  },
  {
   "cell_type": "markdown",
   "id": "4f856eff-b6f9-4edb-912c-900dc4802db7",
   "metadata": {},
   "source": [
    "---"
   ]
  },
  {
   "cell_type": "markdown",
   "id": "6533e8a7-a6e6-4d90-920b-98411917a5ea",
   "metadata": {},
   "source": [
    "## ACTIVIDAD 6"
   ]
  },
  {
   "cell_type": "markdown",
   "id": "65e0c3a8-a35a-49d9-82ea-53f18aea7e51",
   "metadata": {},
   "source": [
    "### Ejercicio 1.\n",
    "\n",
    "Una carpintería local fabrica sillas, mesas, libreros y bases de cama. Hay dos empleados en esta carpintería: un empleado experimentado y un aprendiz. El aprendiz tarda aproximadamente 50% más tiempo que el carpintero experimentado en construir cualquier cosa, además de que tiene un desperdicio de alrededor de 20% de material. Los materiales y tiempos necesarios para construir algo se desglozan en la tabla. Las mesas se venden en 9000, las sillas en 3000, los libreros en 10000, y las bases de cama en 9000. Suponiendo una jornada de 40 horas a la semana y que tienen 100 unidades de madera, ¿qué les conviene construir durante una semana para maximizar su ganancia?"
   ]
  },
  {
   "cell_type": "markdown",
   "id": "91b78280-a47b-4b55-87a0-c3e5d07a78a1",
   "metadata": {},
   "source": [
    "- ¿Cuántas horas trabaja cada quién?\n",
    "- ¿Cuánto material se usa?\n",
    "- ¿Cuál es el ingreso total si se vende todo lo fabricado?"
   ]
  },
  {
   "cell_type": "markdown",
   "id": "47fb98fe-6dfa-44f8-8a84-8fb93e62e1a4",
   "metadata": {},
   "source": [
    "$$ \\min_{as, am, al, ab, es, em, el, eb}  3000as + 3000es + 9000am + 9000em + 10000al + 10000el + 9000ab + 9000eb $$\n",
    "$$ \\text{s.t.} $$\n",
    "$$ 1.5as + 4.5am + 6al + 4.5ab \\leq 40 $$\n",
    "$$ 1es + 3em + 4el + 3eb \\leq 40 $$\n",
    "$$ 2.4as + 2es + 7.2am + 6em + 6al + 5el + 6ab + 5eb \\leq 100 $$"
   ]
  },
  {
   "cell_type": "code",
   "execution_count": 41,
   "id": "ebeb9fc5-07d4-4eec-bb8f-14be68af150c",
   "metadata": {},
   "outputs": [
    {
     "data": {
      "text/plain": [
       "-178666.66666666663"
      ]
     },
     "execution_count": 41,
     "metadata": {},
     "output_type": "execute_result"
    }
   ],
   "source": [
    "import numpy as np\n",
    "c = np.array([\n",
    "    -3000,\n",
    "    -3000,\n",
    "    -9000,\n",
    "    -9000,\n",
    "    -10000,\n",
    "    -10000,\n",
    "    -9000,\n",
    "    -9000\n",
    "])\n",
    "Aub = np.array([\n",
    "    [1.5, 0.0, 4.5, 0.0, 6.0, 0.0, 4.5, 0.0],\n",
    "    [0.0, 1.0, 0.0, 3.0, 0.0, 4.0, 0.0, 3.0],\n",
    "    [2.4, 2.0, 7.2, 6.0, 6.0, 5.0, 6.0, 5.0]\n",
    "])\n",
    "\n",
    "bub = np.array([\n",
    "    40, \n",
    "    40,\n",
    "    100\n",
    "])\n",
    "\n",
    "import scipy.optimize as opt\n",
    "solucion = opt.linprog(c, Aub, bub)\n",
    "solucion.fun"
   ]
  },
  {
   "cell_type": "code",
   "execution_count": 43,
   "id": "a8c5f126-8f61-4580-a769-beb5901ed165",
   "metadata": {},
   "outputs": [
    {
     "data": {
      "text/plain": [
       "array([0.        , 0.        , 0.        , 0.        , 6.66666667,\n",
       "       4.        , 0.        , 8.        ])"
      ]
     },
     "execution_count": 43,
     "metadata": {},
     "output_type": "execute_result"
    }
   ],
   "source": [
    "solucion.x"
   ]
  },
  {
   "cell_type": "code",
   "execution_count": 45,
   "id": "8abbcd2b-730e-4b7b-8aa5-32016ebb39d1",
   "metadata": {},
   "outputs": [
    {
     "data": {
      "text/plain": [
       "array([ 40.,  40., 100.])"
      ]
     },
     "execution_count": 45,
     "metadata": {},
     "output_type": "execute_result"
    }
   ],
   "source": [
    "Aub@solucion.x"
   ]
  },
  {
   "cell_type": "markdown",
   "id": "23e2d40e-3c0c-41f4-8159-f7ebc18e90a0",
   "metadata": {},
   "source": [
    "---"
   ]
  },
  {
   "cell_type": "markdown",
   "id": "0b35f2df-5df6-4b28-a30b-2f29408e5c39",
   "metadata": {},
   "source": [
    "## 02 PROGRAMACIÓN LINEAL"
   ]
  },
  {
   "cell_type": "markdown",
   "id": "460eb483-adb9-471e-8191-030910cc5f09",
   "metadata": {},
   "source": [
    "### 2.1. Ejemplo básico\n",
    "Una multinacional farmacéutica desea fabricar un compuesto nutritivo a base de dos productos A y B.  El producto A contiene  $30\\%$ de proteínas,  un $1\\%$ de grasas y un  $10\\%$ de azúcares.  El producto B  contiene  un  $5\\%$  de proteínas,  un  $7\\%$ de grasas  y un  $10\\%$  de  azúcares.\n",
    "\n",
    "El compuesto debe de tener,  al menos, $25g$ de proteínas,  $6g$ de grasas y $30g$ de azúcares.  El coste del producto A es de $0.6$ u.m./g  y el de B es de $0.2$  u.m./g\n",
    "\n",
    "Se desea encontrar la cantidad en gramos de cada producto para que el coste total sea mínimo.\n",
    "\n",
    "Formular el problema de decidir cuánto hacer de cada producto como un problema de programación lineal."
   ]
  },
  {
   "cell_type": "markdown",
   "id": "ac1715da-db60-439c-8e29-2f868690007b",
   "metadata": {},
   "source": [
    "$$ \\min_{Xa, Xb}  0.6Xa + 0.2Xb $$\n",
    "$$ \\text{s.t.} $$\n",
    "$$ -0.30Xa - 0.05Xb \\leq -25 $$\n",
    "$$ -0.01Xa - 0.07Xb \\leq -6 $$\n",
    "$$ -0.10Xa - 0.10Xb \\leq -30 $$"
   ]
  },
  {
   "cell_type": "code",
   "execution_count": 39,
   "id": "f1d1c56f-2466-4521-a7a2-a72e8470ef0e",
   "metadata": {},
   "outputs": [
    {
     "data": {
      "text/plain": [
       "76.0"
      ]
     },
     "execution_count": 39,
     "metadata": {},
     "output_type": "execute_result"
    }
   ],
   "source": [
    "import numpy as np\n",
    "c = np.array([\n",
    "    0.6,\n",
    "    0.2\n",
    "])\n",
    "Aub = np.array([\n",
    "    [-0.30, -0.05],\n",
    "    [-0.01, -0.07],\n",
    "    [-0.10, -0.10]\n",
    "])\n",
    "\n",
    "bub = np.array([\n",
    "    -25, \n",
    "     -6, \n",
    "    -30\n",
    "])\n",
    "\n",
    "import scipy.optimize as opt\n",
    "solucion = opt.linprog(c, Aub, bub)\n",
    "solucion.fun"
   ]
  },
  {
   "cell_type": "code",
   "execution_count": 47,
   "id": "16d4c32e-24b1-4ba6-81c7-34f9a4eda24e",
   "metadata": {},
   "outputs": [
    {
     "data": {
      "text/plain": [
       "array([0.        , 0.        , 0.        , 0.        , 6.66666667,\n",
       "       4.        , 0.        , 8.        ])"
      ]
     },
     "execution_count": 47,
     "metadata": {},
     "output_type": "execute_result"
    }
   ],
   "source": [
    "solucion.x"
   ]
  },
  {
   "cell_type": "code",
   "execution_count": 49,
   "id": "a5832785-0f55-4b11-8758-9b936883c26f",
   "metadata": {},
   "outputs": [
    {
     "data": {
      "text/plain": [
       "array([ 40.,  40., 100.])"
      ]
     },
     "execution_count": 49,
     "metadata": {},
     "output_type": "execute_result"
    }
   ],
   "source": [
    "Aub@solucion.x"
   ]
  },
  {
   "cell_type": "markdown",
   "id": "b48d256b-f4bd-4eba-b438-51a71cbea9e6",
   "metadata": {},
   "source": [
    "### 2.2. Ejemplo básico 2\n",
    "Una  fábrica  de  carrocerías  de  automóviles  y camiones  tiene  dos naves. \n",
    "\n",
    "+ En  la nave A,  para  hacer  la  carrocería  de  un  camión,  se  invierten  siete  días-operario,  para  fabricar  la  de  un  coche  se  precisan dos días-operario.\n",
    "\n",
    "+ En la nave B se invierten tres días operario tanto en carrocerías de camión como de coche. \n",
    "\n",
    "Por limitaciones de mano de obra y maquinaria, la nave A dispone de $300$ días operario, y la nave B de $270$ días-operario.\n",
    "\n",
    "Si los beneficios que se obtienen por cada camión son de $600$ u.m y por  cada  automóvil  $200$ u.m,  ¿cuántas  unidades  de  cada  uno  se deben  producir  para maximizar las  ganancias? \n",
    "\n",
    "**Nota:** el problema $\\max_{\\boldsymbol{x}}\\boldsymbol{g}(\\boldsymbol{x})$ es equivalente a $\\min_{\\boldsymbol{x}}-\\boldsymbol{g}(\\boldsymbol{x})$."
   ]
  },
  {
   "cell_type": "markdown",
   "id": "cf22503c-ddcc-4fd3-9ab7-0ccf686ae7ad",
   "metadata": {},
   "source": [
    "$$ \\min_{Aa, Ac, Ba, Bc}  -200Aa - 600Ac - 200Ba - 600Bc $$\n",
    "$$ \\text{s.t.} $$\n",
    "$$ 2Aa + 7Ac \\leq 300 $$\n",
    "$$ 3Ba + 3Bc \\leq 270 $$"
   ]
  },
  {
   "cell_type": "code",
   "execution_count": 61,
   "id": "2463855e-8228-4588-af6c-e9f40e2ea2e4",
   "metadata": {},
   "outputs": [
    {
     "data": {
      "text/plain": [
       "-84000.0"
      ]
     },
     "execution_count": 61,
     "metadata": {},
     "output_type": "execute_result"
    }
   ],
   "source": [
    "import numpy as np\n",
    "c = np.array([\n",
    "    -200,\n",
    "    -600,\n",
    "    -200,\n",
    "    -600\n",
    "])\n",
    "Aub = np.array([\n",
    "    [2, 7, 0, 0],\n",
    "    [0, 0, 3, 3]\n",
    "])\n",
    "\n",
    "bub = np.array([\n",
    "    300,\n",
    "    270\n",
    "])\n",
    "\n",
    "import scipy.optimize as opt\n",
    "solucion = opt.linprog(c, Aub, bub)\n",
    "solucion.fun"
   ]
  },
  {
   "cell_type": "code",
   "execution_count": 63,
   "id": "48ec62db-8c84-42d0-a059-ec4c797213d0",
   "metadata": {},
   "outputs": [
    {
     "data": {
      "text/plain": [
       "array([150.,   0.,   0.,  90.])"
      ]
     },
     "execution_count": 63,
     "metadata": {},
     "output_type": "execute_result"
    }
   ],
   "source": [
    "solucion.x"
   ]
  },
  {
   "cell_type": "code",
   "execution_count": 65,
   "id": "7b14de2b-b8d7-4a74-93cc-b1630a103768",
   "metadata": {},
   "outputs": [
    {
     "data": {
      "text/plain": [
       "array([300., 270.])"
      ]
     },
     "execution_count": 65,
     "metadata": {},
     "output_type": "execute_result"
    }
   ],
   "source": [
    "Aub@solucion.x"
   ]
  },
  {
   "cell_type": "markdown",
   "id": "88d09af7-8180-4200-b13e-bf1bb56eb326",
   "metadata": {},
   "source": [
    "### **Actividad.** \n",
    "\n",
    "Mónica hace aretes y cadenitas de joyería. Es tan buena, que todo lo que hace lo vende.\n",
    "\n",
    "Le toma 30 minutos hacer un par de aretes y una hora hacer una cadenita, y como Mónica también es estudihambre, solo dispone de 10 horas a la semana para hacer las joyas. Por otra parte, el material que compra solo le alcanza para hacer 15 unidades (el par de aretes cuenta como unidad) de joyas por semana.\n",
    "\n",
    "La utilidad que le deja la venta de las joyas es $\\$15$ en cada par de aretes y $\\$20$ en cada cadenita.\n",
    "\n",
    "¿Cuántos pares de aretes y cuántas cadenitas debería hacer Mónica para maximizar su utilidad?\n",
    "\n",
    "Formular el problema en la forma explicada y obtener la solución gráfica (puede ser a mano).\n",
    "\n",
    "**Diez minutos: quien primero lo haga, comparte pantalla para explicarlo y le subiré la nota de alguna tarea a 100.**"
   ]
  },
  {
   "cell_type": "markdown",
   "id": "07c0de13-b2d7-46ca-aba9-1fd7643c72f6",
   "metadata": {},
   "source": [
    "$$ \\min_{A, C}  -15A - 20C $$\n",
    "$$ \\text{s.t.} $$\n",
    "$$ 0.5A + 1C \\leq 10 $$\n",
    "$$ A + C \\leq 15 $$"
   ]
  },
  {
   "cell_type": "code",
   "execution_count": 70,
   "id": "8d168cfc-4a37-4f85-ae45-c074d283713f",
   "metadata": {},
   "outputs": [
    {
     "data": {
      "text/plain": [
       "-250.0"
      ]
     },
     "execution_count": 70,
     "metadata": {},
     "output_type": "execute_result"
    }
   ],
   "source": [
    "import numpy as np\n",
    "c = np.array([\n",
    "    -15,\n",
    "    -20\n",
    "])\n",
    "Aub = np.array([\n",
    "    [0.5, 1.0],\n",
    "    [1.0, 1.0]\n",
    "])\n",
    "\n",
    "bub = np.array([\n",
    "    10,\n",
    "    15\n",
    "])\n",
    "\n",
    "import scipy.optimize as opt\n",
    "solucion = opt.linprog(c, Aub, bub)\n",
    "solucion.fun"
   ]
  },
  {
   "cell_type": "code",
   "execution_count": 72,
   "id": "1d971d87-a7b5-4cbc-983e-86937b29bb55",
   "metadata": {},
   "outputs": [
    {
     "data": {
      "text/plain": [
       "array([10.,  5.])"
      ]
     },
     "execution_count": 72,
     "metadata": {},
     "output_type": "execute_result"
    }
   ],
   "source": [
    "solucion.x"
   ]
  },
  {
   "cell_type": "code",
   "execution_count": 74,
   "id": "b7d58afe-dd23-46db-8be9-1ce9e8098fe8",
   "metadata": {},
   "outputs": [
    {
     "data": {
      "text/plain": [
       "array([10., 15.])"
      ]
     },
     "execution_count": 74,
     "metadata": {},
     "output_type": "execute_result"
    }
   ],
   "source": [
    "Aub@solucion.x"
   ]
  },
  {
   "cell_type": "markdown",
   "id": "53bb2587-5a12-4038-aca1-835498cd6a39",
   "metadata": {},
   "source": [
    "### 4. Problema de transporte 1\n",
    "\n",
    "Una  empresa tiene dos fábricas A y B.  En ellas  se fabrica un determinado  producto, a razón de 500  y 400 unidades por día respectivamente.  El producto  ha  de  ser distribuido posteriormente  a  tres  centros  C,  D  y  E,  que  requieren,  respectivamente,  200,  300  y  400  unidades.  Los  costos  de  transportar cada unidad del producto desde cada fábrica a cada centro distribuidor son los  indicados  en la tabla  siguiente: \n",
    "\n",
    "Factoría|C|D|E|Fabricación (Unidades)\n",
    ":----|----|----|----|----\n",
    "A|  50 u.m|60 u.m|10 u.m|500 u\n",
    "B|  25 u.m|40 u.m|20 u.m|400 u\n",
    "Demanda|200|300|400|\n",
    "\n",
    "**¿De qué manera  deben  organizar  el transporte a fin de que los gastos sean mínimos?**\n",
    "\n",
    "\n",
    "Resolver con `linprog`"
   ]
  },
  {
   "cell_type": "markdown",
   "id": "e1c1051c-afbb-4f8d-a758-feada188b700",
   "metadata": {},
   "source": [
    "$$ \\min_{Ac, Ad, Ae, Bc, Bd, Be}  50Ac + 60Ad + 10Ae + 25Bc + 40Bd + 20Be $$\n",
    "$$ \\text{s.t.} $$\n",
    "$$ -Ac - Bc \\leq -200 $$\n",
    "$$ -Ad - Bd \\leq -300 $$\n",
    "$$ -Ae - Be \\leq -400 $$\n",
    "$$ Ac + Ad + Ae \\leq 500 $$\n",
    "$$ Bc + Bd + Be \\leq 400 $$"
   ]
  },
  {
   "cell_type": "code",
   "execution_count": 80,
   "id": "0d36363d-056b-423c-bbd0-9d5be3aaadd3",
   "metadata": {},
   "outputs": [
    {
     "data": {
      "text/plain": [
       "23000.0"
      ]
     },
     "execution_count": 80,
     "metadata": {},
     "output_type": "execute_result"
    }
   ],
   "source": [
    "import numpy as np\n",
    "c = np.array([\n",
    "    50, \n",
    "    60,\n",
    "    10, \n",
    "    25,\n",
    "    40,\n",
    "    20\n",
    "])\n",
    "Aub = np.array([\n",
    "    [-1,  0,  0, -1,  0,  0],\n",
    "    [ 0, -1,  0,  0, -1,  0],\n",
    "    [ 0,  0, -1,  0,  0, -1],\n",
    "    [ 1,  1,  1,  0,  0,  0],\n",
    "    [ 0,  0,  0,  1,  1,  1]\n",
    "])\n",
    "\n",
    "bub = np.array([\n",
    "    -200, \n",
    "    -300,\n",
    "    -400, \n",
    "     500,\n",
    "     400\n",
    "])\n",
    "\n",
    "import scipy.optimize as opt\n",
    "solucion = opt.linprog(c, Aub, bub)\n",
    "solucion.fun"
   ]
  },
  {
   "cell_type": "code",
   "execution_count": 82,
   "id": "0d79d091-d9d0-4394-8eeb-d7185ae5fd68",
   "metadata": {},
   "outputs": [
    {
     "data": {
      "text/plain": [
       "array([  0., 100., 400., 200., 200.,   0.])"
      ]
     },
     "execution_count": 82,
     "metadata": {},
     "output_type": "execute_result"
    }
   ],
   "source": [
    "solucion.x"
   ]
  },
  {
   "cell_type": "code",
   "execution_count": 84,
   "id": "da872b0c-c22c-4d35-a316-cafe47c796cb",
   "metadata": {},
   "outputs": [
    {
     "data": {
      "text/plain": [
       "array([-200., -300., -400.,  500.,  400.])"
      ]
     },
     "execution_count": 84,
     "metadata": {},
     "output_type": "execute_result"
    }
   ],
   "source": [
    "Aub@solucion.x"
   ]
  },
  {
   "cell_type": "markdown",
   "id": "48f14778-c58d-4f5d-9c6b-d07fce018c7a",
   "metadata": {},
   "source": [
    "### 5. Optimización de inversión en bonos\n",
    "\n",
    "El objetivo de este problema es determinar la mejor estrategia de inversión, dados diferentes tipos de bono, la máxima cantidad que puede ser invertida en cada bono, el porcentaje de retorno y los años de madurez. También hay una cantidad fija de dinero disponible ($\\$750,000$). Por lo menos la mitad de este dinero debe ser invertido en bonos con 10 años o más para la madurez. Se puede invertir un máximo del $25\\%$ de esta cantidad en cada bono. Finalmente, hay otra restricción que no permite usar más de $35\\%$ en bonos de alto riesgo.\n",
    "\n",
    "Existen seis (6) opciones de inversión con las letras correspondientes $A_i$\n",
    "\n",
    "1. $A_1$:(Tasa de retorno=$8.65\\%$; Años para la madurez=11, Riesgo=Bajo)\n",
    "1. $A_2$:(Tasa de retorno=$9.50\\%$; Años para la madurez=10, Riesgo=Alto)\n",
    "1. $A_3$:(Tasa de retorno=$10.00\\%$; Años para la madurez=6, Riesgo=Alto)\n",
    "1. $A_4$:(Tasa de retorno=$8.75\\%$; Años para la madurez=10, Riesgo=Bajo)\n",
    "1. $A_5$:(Tasa de retorno=$9.25\\%$; Años para la madurez=7, Riesgo=Alto)\n",
    "1. $A_6$:(Tasa de retorno=$9.00\\%$; Años para la madurez=13, Riesgo=Bajo)\n",
    "\n",
    "Lo que se quiere entonces es maximizar el retorno que deja la inversión.\n",
    "\n",
    "Este problema puede ser resuelto con programación lineal. Formalmente, puede ser descrito como:\n",
    "\n",
    "$$\\max_{A_1,A_2,...,A_6}\\sum^{6}_{i=1} A_iR_i,$$\n",
    "\n",
    "donde $A_i$ representa la cantidad invertida en la opción, y $R_i$ representa la tasa de retorno respectiva."
   ]
  },
  {
   "cell_type": "markdown",
   "id": "d59b85a7-3a8a-46d6-a22e-752556314351",
   "metadata": {},
   "source": [
    "$$ \\min_{A1, A2, A3, A4, A5, A6}  -0.0865A1 - 0.095A2 - 0.1A3 - 0.0875A4 - 0.0925A5 - 0.09A6 $$\n",
    "$$ \\text{s.t.} $$\n",
    "$$ A1 + A2 + A3 + A4 + A5 + A6 \\leq 750000 $$\n",
    "$$ -A1 - A2 - A4 - A6 \\leq -375000 $$\n",
    "$$ A1 \\leq 187500 $$\n",
    "$$ A2 \\leq 187500 $$\n",
    "$$ A3 \\leq 187500 $$\n",
    "$$ A4 \\leq 187500 $$\n",
    "$$ A5 \\leq 187500 $$\n",
    "$$ A6 \\leq 187500 $$\n",
    "$$ A2 + A3 + A5 \\leq 262500 $$"
   ]
  },
  {
   "cell_type": "code",
   "execution_count": 87,
   "id": "79eb436d-2bd6-481b-8919-526bd171c87d",
   "metadata": {},
   "outputs": [
    {
     "data": {
      "text/plain": [
       "-68887.5"
      ]
     },
     "execution_count": 87,
     "metadata": {},
     "output_type": "execute_result"
    }
   ],
   "source": [
    "import numpy as np\n",
    "c = np.array([\n",
    "    -0.0865,\n",
    "    -0.095,\n",
    "    -0.10,\n",
    "    -0.0875,\n",
    "    -0.0925,\n",
    "    -0.090\n",
    "])\n",
    "Aub = np.array([\n",
    "    [ 1,  1,  1,  1,  1,  1],\n",
    "    [-1, -1,  0, -1,  0, -1],\n",
    "    [ 1,  0,  0,  0,  0,  0],\n",
    "    [ 0,  1,  0,  0,  0,  0],\n",
    "    [ 0,  0,  1,  0,  0,  0],\n",
    "    [ 0,  0,  0,  1,  0,  0],\n",
    "    [ 0,  0,  0,  0,  1,  0],\n",
    "    [ 0,  0,  0,  0,  0,  1],\n",
    "    [ 0,  1,  1,  0,  1,  0],\n",
    "])\n",
    "\n",
    "bub = np.array([\n",
    "     750000,\n",
    "    -375000,\n",
    "     187500, \n",
    "     187500,\n",
    "     187500,\n",
    "     187500,\n",
    "     187500,\n",
    "     187500,\n",
    "     262500\n",
    "])\n",
    "\n",
    "import scipy.optimize as opt\n",
    "solucion = opt.linprog(c, Aub, bub)\n",
    "solucion.fun"
   ]
  },
  {
   "cell_type": "code",
   "execution_count": 89,
   "id": "0b0216ad-98de-4ac5-9859-e99473529d6d",
   "metadata": {},
   "outputs": [
    {
     "data": {
      "text/plain": [
       "array([112500.,  75000., 187500., 187500.,      0., 187500.])"
      ]
     },
     "execution_count": 89,
     "metadata": {},
     "output_type": "execute_result"
    }
   ],
   "source": [
    "solucion.x"
   ]
  },
  {
   "cell_type": "code",
   "execution_count": 91,
   "id": "32e7c035-056b-4b82-970c-7d3ad5231c1f",
   "metadata": {},
   "outputs": [
    {
     "data": {
      "text/plain": [
       "array([ 750000., -562500.,  112500.,   75000.,  187500.,  187500.,\n",
       "             0.,  187500.,  262500.])"
      ]
     },
     "execution_count": 91,
     "metadata": {},
     "output_type": "execute_result"
    }
   ],
   "source": [
    "Aub@solucion.x"
   ]
  },
  {
   "cell_type": "markdown",
   "id": "df123194-d635-4b21-93e4-f3f1233ee194",
   "metadata": {},
   "source": [
    "---"
   ]
  }
 ],
 "metadata": {
  "kernelspec": {
   "display_name": "Python 3 (ipykernel)",
   "language": "python",
   "name": "python3"
  },
  "language_info": {
   "codemirror_mode": {
    "name": "ipython",
    "version": 3
   },
   "file_extension": ".py",
   "mimetype": "text/x-python",
   "name": "python",
   "nbconvert_exporter": "python",
   "pygments_lexer": "ipython3",
   "version": "3.12.4"
  }
 },
 "nbformat": 4,
 "nbformat_minor": 5
}
