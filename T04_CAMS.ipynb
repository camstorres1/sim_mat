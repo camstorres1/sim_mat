{
 "cells": [
  {
   "cell_type": "markdown",
   "id": "b0555e28-7c88-46fa-9e97-6eb5cb9f1a4f",
   "metadata": {},
   "source": [
    "# TAREA 04 \n",
    "# CAMILA TORRES\n",
    "# 12 DE SEPTIEMBRE DE 2024"
   ]
  },
  {
   "cell_type": "markdown",
   "id": "558eeb76-970b-442e-9604-9d2c9c696af8",
   "metadata": {},
   "source": [
    "## ACTIVIDAD 5"
   ]
  },
  {
   "cell_type": "markdown",
   "id": "23d8a618-a067-4e16-9f9f-f352695c66c2",
   "metadata": {},
   "source": [
    "#### EJERCICIO 1"
   ]
  },
  {
   "cell_type": "markdown",
   "id": "5e4e9e53-b14b-4196-8d3f-59f19c3f9805",
   "metadata": {},
   "source": [
    "#### Se quiere producir comida para gatos de la manera más barata, no obstante se debe también asegurar que se cumplan los datos requeridos de analisis nutricional. Por lo que se quiere variar la cantidad de cada ingrediente para cumplir con los estandares nutricionales. Los requisitos que se tienen es que en 100 gramos, se deben tener por lo menos 9 gramos de proteína y  7 gramos de grasa. Así mismo, no se debe tener más de 2.5 gramos de fibra y 0.5 gramos de sal."
   ]
  },
  {
   "cell_type": "markdown",
   "id": "a6b0495b-4a59-4bd2-8168-61b059922f27",
   "metadata": {},
   "source": [
    "$$ \\min_{p, m, c, a, t, g}  0.012p + 0.009m + 0.010c + 0.003a + 0.005t + 0.002g$$\n",
    "$$ \\text{s.t.} $$\n",
    "$$ p + m + c + a + t + g = 100 $$\n",
    "$$ -0.10p - 0.20m - 0.15c - 0.04t \\leq -9 $$\n",
    "$$ -0.08p - 0.10m - 0.11c - 0.01a - 0.01t \\leq -7 $$\n",
    "$$ 0.001p + .005m + 0.005c + 0.10a + 0.15t \\leq 2.5 $$\n",
    "$$ 0.002p + 0.005m + 0.007c + 0.002a + 0.008t \\leq 0.5 $$"
   ]
  },
  {
   "cell_type": "code",
   "execution_count": null,
   "id": "5637f02e-60e7-4be9-b7d2-cb68cbaaf6fe",
   "metadata": {},
   "outputs": [],
   "source": [
    "import numpy as np\n",
    "c = np.array([\n",
    "    0.012, \n",
    "    0.009, \n",
    "    0.010, \n",
    "    0.003,\n",
    "    0.005,\n",
    "    0.002\n",
    "])\n",
    "# A va a tener tantos renglones como restricciones y b tendrá tantas columnas como variables\n",
    "Aub = np.array([\n",
    "    [  1.000,  1.000, 1.000,  1.000,  1.000, 1],\n",
    "    [ -0.100, -0.200,-0.150,  0.000, -0.040, 0],\n",
    "    [ -0.080, -0.100,-0.110, -0.010, -0.010, 0],\n",
    "    [  0.001,  0.005, 0.005,  0.100,  0.150, 0],\n",
    "    [  0,002,  0.005, 0.007,  0.002,  0.008, 0]\n",
    "])\n",
    "\n",
    "bub = np.array([\n",
    "     100, \n",
    "      -9,\n",
    "     60,\n",
    "    -60,\n",
    "    -45,\n",
    "    -60\n",
    "]) \n",
    "\n",
    "import scipy.optimize as opt\n",
    "sol = opt.linprog(c, Aub, bub)\n",
    "sol\n",
    "# sol.x es solo el resultado en x"
   ]
  },
  {
   "cell_type": "markdown",
   "id": "86920e42-6747-400d-8cb1-a04f65d041c3",
   "metadata": {},
   "source": [
    "#### EJERCICIO 2"
   ]
  },
  {
   "cell_type": "markdown",
   "id": "f0aefa9b-b5cd-443e-ad58-f82acf875f1c",
   "metadata": {},
   "source": [
    "#### La Comisión Federal de Electricidad (CFE) dispone de tres plantas de generación para satisfacer la demanda diaria eléctrica en tres ciudades, Guadalajara, León y Morelia. Las plantas 1, 2 y 3 pueden satisfacer 75, 50 y 60 millones de kW al día respectivamente. Las necesidades de las ciudades de Guadalajara, León y Morelia son de 60, 45 y 60 millones de Kw al día respectivamente. Los costos asociados al envío de suministro energético por cada millón de kW entre cada planta y cada ciudad son los registrados en la siguiente tabla.a."
   ]
  },
  {
   "cell_type": "markdown",
   "id": "630b5f64-433d-4a21-a668-c6afb2366bd5",
   "metadata": {},
   "source": [
    "$$ \\min_{$p_1g, p_1l, p_1m, p_2g, p_2l, p_2m, p_3g, p_3l, p_3m$}  5p_1g + 2p_1l + 7p_1m + 3p_2g + 4p_2l + 5p_2m + 5p_3g + 2p_3l + 3p_3m$$\n",
    "$$ \\text{s.t.} $$\n",
    "$$ p_1g + p_1m + p_1l \\leq 75 $$\n",
    "$$ p_2g + p_2m + p_2l \\leq 50 $$\n",
    "$$ p_3g + p_3m + p_3l \\leq 60 $$\n",
    "\n",
    "$$ -p_1g + -p_2g + -p_3g \\leq -60 $$\n",
    "$$ -p_1l + -p_2l + -p_3l \\leq -45 $$\n",
    "$$ -p_1m + -p_2m + -p_3m \\leq -60 $$"
   ]
  },
  {
   "cell_type": "code",
   "execution_count": 10,
   "id": "4986c2a7-329f-4aa8-a505-5f178bdc0e83",
   "metadata": {},
   "outputs": [
    {
     "data": {
      "text/plain": [
       "        message: Optimization terminated successfully. (HiGHS Status 7: Optimal)\n",
       "        success: True\n",
       "         status: 0\n",
       "            fun: 470.0\n",
       "              x: [ 1.000e+01  4.500e+01  0.000e+00  5.000e+01  0.000e+00\n",
       "                   0.000e+00  0.000e+00  0.000e+00  6.000e+01]\n",
       "            nit: 4\n",
       "          lower:  residual: [ 1.000e+01  4.500e+01  0.000e+00  5.000e+01\n",
       "                              0.000e+00  0.000e+00  0.000e+00  0.000e+00\n",
       "                              6.000e+01]\n",
       "                 marginals: [ 0.000e+00  0.000e+00  4.000e+00  0.000e+00\n",
       "                              4.000e+00  4.000e+00  0.000e+00  0.000e+00\n",
       "                              0.000e+00]\n",
       "          upper:  residual: [       inf        inf        inf        inf\n",
       "                                    inf        inf        inf        inf\n",
       "                                    inf]\n",
       "                 marginals: [ 0.000e+00  0.000e+00  0.000e+00  0.000e+00\n",
       "                              0.000e+00  0.000e+00  0.000e+00  0.000e+00\n",
       "                              0.000e+00]\n",
       "          eqlin:  residual: []\n",
       "                 marginals: []\n",
       "        ineqlin:  residual: [ 2.000e+01  0.000e+00  0.000e+00  0.000e+00\n",
       "                              0.000e+00  0.000e+00]\n",
       "                 marginals: [-0.000e+00 -2.000e+00 -0.000e+00 -5.000e+00\n",
       "                             -2.000e+00 -3.000e+00]\n",
       " mip_node_count: 0\n",
       " mip_dual_bound: 0.0\n",
       "        mip_gap: 0.0"
      ]
     },
     "execution_count": 10,
     "metadata": {},
     "output_type": "execute_result"
    }
   ],
   "source": [
    "import numpy as np\n",
    "c = np.array([\n",
    "    5, \n",
    "    2, \n",
    "    7, \n",
    "    3,\n",
    "    4,\n",
    "    5,\n",
    "    5,\n",
    "    2,\n",
    "    3\n",
    "])\n",
    "# A va a tener tantos renglones como restricciones y b tendrá tantas columnas como variables\n",
    "Aub = np.array([\n",
    "    [ 1,  1,  1,  0,  0,  0,  0,  0,  0],\n",
    "    [ 0,  0,  0,  1,  1,  1,  0,  0,  0],\n",
    "    [ 0,  0,  0,  0,  0,  0,  1,  1,  1],\n",
    "    [-1,  0,  0, -1,  0,  0, -1,  0,  0],\n",
    "    [ 0, -1,  0,  0, -1,  0,  0, -1,  0],\n",
    "    [ 0,  0, -1,  0,  0, -1,  0,  0, -1]\n",
    "])\n",
    "\n",
    "bub = np.array([\n",
    "     75, \n",
    "     50,\n",
    "     60,\n",
    "    -60,\n",
    "    -45,\n",
    "    -60\n",
    "]) \n",
    "\n",
    "import scipy.optimize as opt\n",
    "sol = opt.linprog(c, Aub, bub)\n",
    "sol\n",
    "# sol.x es solo el resultado en x"
   ]
  },
  {
   "cell_type": "markdown",
   "id": "4f856eff-b6f9-4edb-912c-900dc4802db7",
   "metadata": {},
   "source": [
    "---"
   ]
  },
  {
   "cell_type": "markdown",
   "id": "6533e8a7-a6e6-4d90-920b-98411917a5ea",
   "metadata": {},
   "source": [
    "## ACTIVIDAD 6"
   ]
  },
  {
   "cell_type": "markdown",
   "id": "65e0c3a8-a35a-49d9-82ea-53f18aea7e51",
   "metadata": {},
   "source": [
    "### Ejercicio 1.\n",
    "\n",
    "Una carpintería local fabrica sillas, mesas, libreros y bases de cama. Hay dos empleados en esta carpintería: un empleado experimentado y un aprendiz. El aprendiz tarda aproximadamente 50% más tiempo que el carpintero experimentado en construir cualquier cosa, además de que tiene un desperdicio de alrededor de 20% de material. Los materiales y tiempos necesarios para construir algo se desglozan en la tabla. Las mesas se venden en 9000, las sillas en 3000, los libreros en 10000, y las bases de cama en 9000. Suponiendo una jornada de 40 horas a la semana y que tienen 100 unidades de madera, ¿qué les conviene construir durante una semana para maximizar su ganancia?"
   ]
  },
  {
   "cell_type": "markdown",
   "id": "91b78280-a47b-4b55-87a0-c3e5d07a78a1",
   "metadata": {},
   "source": [
    "- ¿Cuántas horas trabaja cada quién?\n",
    "- ¿Cuánto material se usa?\n",
    "- ¿Cuál es el ingreso total si se vende todo lo fabricado?"
   ]
  },
  {
   "cell_type": "markdown",
   "id": "47fb98fe-6dfa-44f8-8a84-8fb93e62e1a4",
   "metadata": {},
   "source": [
    "$$ \\min_{as, am, al, ab, es, em, el, eb}  3000as + 3000es + 9000am + 9000em + 10000al + 10000el + 9000ab + 9000eb $$\n",
    "$$ \\text{s.t.} $$\n",
    "$$ 1.5as + 4.5am + 6al + 4.5ab \\leq 40 $$\n",
    "$$ 1es + 3em + 4el + 3eb \\leq 40 $$\n",
    "$$ 2.4as + 2es + 7.2am + 6em + 6al + 5el + 6ab + 5eb \\leq 100 $$"
   ]
  },
  {
   "cell_type": "code",
   "execution_count": 18,
   "id": "ebeb9fc5-07d4-4eec-bb8f-14be68af150c",
   "metadata": {},
   "outputs": [
    {
     "data": {
      "text/plain": [
       "        message: Optimization terminated successfully. (HiGHS Status 7: Optimal)\n",
       "        success: True\n",
       "         status: 0\n",
       "            fun: -178666.66666666663\n",
       "              x: [ 0.000e+00  0.000e+00  0.000e+00  0.000e+00  6.667e+00\n",
       "                   4.000e+00  0.000e+00  8.000e+00]\n",
       "            nit: 3\n",
       "          lower:  residual: [ 0.000e+00  0.000e+00  0.000e+00  0.000e+00\n",
       "                              6.667e+00  4.000e+00  0.000e+00  8.000e+00]\n",
       "                 marginals: [ 5.800e+02  4.000e+02  1.740e+03  1.200e+03\n",
       "                              0.000e+00  0.000e+00  3.000e+02  0.000e+00]\n",
       "          upper:  residual: [       inf        inf        inf        inf\n",
       "                                    inf        inf        inf        inf]\n",
       "                 marginals: [ 0.000e+00  0.000e+00  0.000e+00  0.000e+00\n",
       "                              0.000e+00  0.000e+00  0.000e+00  0.000e+00]\n",
       "          eqlin:  residual: []\n",
       "                 marginals: []\n",
       "        ineqlin:  residual: [ 0.000e+00  0.000e+00  0.000e+00]\n",
       "                 marginals: [-4.667e+02 -1.000e+03 -1.200e+03]\n",
       " mip_node_count: 0\n",
       " mip_dual_bound: 0.0\n",
       "        mip_gap: 0.0"
      ]
     },
     "execution_count": 18,
     "metadata": {},
     "output_type": "execute_result"
    }
   ],
   "source": [
    "import numpy as np\n",
    "c = np.array([\n",
    "    -3000,\n",
    "    -3000,\n",
    "    -9000,\n",
    "    -9000,\n",
    "    -10000,\n",
    "    -10000,\n",
    "    -9000,\n",
    "    -9000\n",
    "])\n",
    "Aub = np.array([\n",
    "    [1.5, 0.0, 4.5, 0.0, 6.0, 0.0, 4.5, 0.0],\n",
    "    [0.0, 1.0, 0.0, 3.0, 0.0, 4.0, 0.0, 3.0],\n",
    "    [2.4, 2.0, 7.2, 6.0, 6.0, 5.0, 6.0, 5.0],\n",
    "])\n",
    "\n",
    "bub = np.array([\n",
    "    40, \n",
    "    40,\n",
    "    100\n",
    "])\n",
    "\n",
    "import scipy.optimize as opt\n",
    "opt.linprog(c, Aub, bub)"
   ]
  },
  {
   "cell_type": "code",
   "execution_count": null,
   "id": "a8c5f126-8f61-4580-a769-beb5901ed165",
   "metadata": {},
   "outputs": [],
   "source": []
  },
  {
   "cell_type": "code",
   "execution_count": null,
   "id": "09ca8cf7-7c76-493a-9c4c-32fefec1ab39",
   "metadata": {},
   "outputs": [],
   "source": []
  }
 ],
 "metadata": {
  "kernelspec": {
   "display_name": "Python 3 (ipykernel)",
   "language": "python",
   "name": "python3"
  },
  "language_info": {
   "codemirror_mode": {
    "name": "ipython",
    "version": 3
   },
   "file_extension": ".py",
   "mimetype": "text/x-python",
   "name": "python",
   "nbconvert_exporter": "python",
   "pygments_lexer": "ipython3",
   "version": "3.12.4"
  }
 },
 "nbformat": 4,
 "nbformat_minor": 5
}
