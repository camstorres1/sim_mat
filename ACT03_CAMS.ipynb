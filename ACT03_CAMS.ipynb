{
 "cells": [
  {
   "cell_type": "markdown",
   "id": "762cc1c4-cfa3-420a-83bb-7b6fc3809bbf",
   "metadata": {},
   "source": [
    "# Act 03\n",
    "## Camila Torres R\n",
    "## 21 Agosto"
   ]
  },
  {
   "cell_type": "code",
   "execution_count": 5,
   "id": "4ec61979-3aca-4cb5-ae7c-045edae11842",
   "metadata": {},
   "outputs": [
    {
     "data": {
      "text/html": [
       "<div>\n",
       "<style scoped>\n",
       "    .dataframe tbody tr th:only-of-type {\n",
       "        vertical-align: middle;\n",
       "    }\n",
       "\n",
       "    .dataframe tbody tr th {\n",
       "        vertical-align: top;\n",
       "    }\n",
       "\n",
       "    .dataframe thead th {\n",
       "        text-align: right;\n",
       "    }\n",
       "</style>\n",
       "<table border=\"1\" class=\"dataframe\">\n",
       "  <thead>\n",
       "    <tr style=\"text-align: right;\">\n",
       "      <th></th>\n",
       "      <th>Unnamed: 0</th>\n",
       "      <th>Ingreso</th>\n",
       "      <th>Gasto</th>\n",
       "    </tr>\n",
       "  </thead>\n",
       "  <tbody>\n",
       "    <tr>\n",
       "      <th>0</th>\n",
       "      <td>Enero</td>\n",
       "      <td>1340</td>\n",
       "      <td>1880</td>\n",
       "    </tr>\n",
       "    <tr>\n",
       "      <th>1</th>\n",
       "      <td>Febrero</td>\n",
       "      <td>2590</td>\n",
       "      <td>3130</td>\n",
       "    </tr>\n",
       "    <tr>\n",
       "      <th>2</th>\n",
       "      <td>Marzo</td>\n",
       "      <td>3570</td>\n",
       "      <td>2140</td>\n",
       "    </tr>\n",
       "    <tr>\n",
       "      <th>3</th>\n",
       "      <td>Abril</td>\n",
       "      <td>4450</td>\n",
       "      <td>3370</td>\n",
       "    </tr>\n",
       "    <tr>\n",
       "      <th>4</th>\n",
       "      <td>Mayo</td>\n",
       "      <td>1330</td>\n",
       "      <td>2990</td>\n",
       "    </tr>\n",
       "    <tr>\n",
       "      <th>5</th>\n",
       "      <td>Junio</td>\n",
       "      <td>1610</td>\n",
       "      <td>1970</td>\n",
       "    </tr>\n",
       "    <tr>\n",
       "      <th>6</th>\n",
       "      <td>Julio</td>\n",
       "      <td>1500</td>\n",
       "      <td>2230</td>\n",
       "    </tr>\n",
       "    <tr>\n",
       "      <th>7</th>\n",
       "      <td>Agosto</td>\n",
       "      <td>2270</td>\n",
       "      <td>1240</td>\n",
       "    </tr>\n",
       "    <tr>\n",
       "      <th>8</th>\n",
       "      <td>Septiembre</td>\n",
       "      <td>1910</td>\n",
       "      <td>1470</td>\n",
       "    </tr>\n",
       "    <tr>\n",
       "      <th>9</th>\n",
       "      <td>Octubre</td>\n",
       "      <td>2120</td>\n",
       "      <td>2280</td>\n",
       "    </tr>\n",
       "    <tr>\n",
       "      <th>10</th>\n",
       "      <td>Noviembre</td>\n",
       "      <td>3950</td>\n",
       "      <td>1870</td>\n",
       "    </tr>\n",
       "    <tr>\n",
       "      <th>11</th>\n",
       "      <td>Diciembre</td>\n",
       "      <td>1380</td>\n",
       "      <td>3140</td>\n",
       "    </tr>\n",
       "  </tbody>\n",
       "</table>\n",
       "</div>"
      ],
      "text/plain": [
       "    Unnamed: 0  Ingreso  Gasto\n",
       "0        Enero     1340   1880\n",
       "1      Febrero     2590   3130\n",
       "2        Marzo     3570   2140\n",
       "3        Abril     4450   3370\n",
       "4         Mayo     1330   2990\n",
       "5        Junio     1610   1970\n",
       "6        Julio     1500   2230\n",
       "7       Agosto     2270   1240\n",
       "8   Septiembre     1910   1470\n",
       "9      Octubre     2120   2280\n",
       "10   Noviembre     3950   1870\n",
       "11   Diciembre     1380   3140"
      ]
     },
     "execution_count": 5,
     "metadata": {},
     "output_type": "execute_result"
    }
   ],
   "source": [
    "import pandas as pd\n",
    "datos = pd.read_excel(\"datosCT.xlsx\")\n",
    "\n",
    "datos"
   ]
  },
  {
   "cell_type": "markdown",
   "id": "b63fa0a9-43e5-474d-8058-19ed75a673ed",
   "metadata": {},
   "source": [
    "### Calcular con los datos la utilidad"
   ]
  },
  {
   "cell_type": "code",
   "execution_count": 10,
   "id": "5c209204-9edf-4448-89e7-ebaef1cefd70",
   "metadata": {},
   "outputs": [
    {
     "data": {
      "text/plain": [
       "0     -540\n",
       "1     -540\n",
       "2     1430\n",
       "3     1080\n",
       "4    -1660\n",
       "5     -360\n",
       "6     -730\n",
       "7     1030\n",
       "8      440\n",
       "9     -160\n",
       "10    2080\n",
       "11   -1760\n",
       "Name: Utilidad, dtype: int64"
      ]
     },
     "execution_count": 10,
     "metadata": {},
     "output_type": "execute_result"
    }
   ],
   "source": [
    "datos.columns\n",
    "datos [\"Utilidad\"] = datos[\"Ingreso\"] - (datos[\"Gasto\"])\n",
    "datos [\"Utilidad\"]"
   ]
  },
  {
   "cell_type": "markdown",
   "id": "1cfdea2c-3b72-4e8d-82ff-2b385e0bd3ca",
   "metadata": {},
   "source": [
    "###  Promedio de Gastos en los meses que la Utilidad fue negativa"
   ]
  },
  {
   "cell_type": "code",
   "execution_count": 76,
   "id": "1a9b9603-cd73-4a77-9d18-91853fc10f3b",
   "metadata": {},
   "outputs": [
    {
     "data": {
      "text/plain": [
       "2517.1428571428573"
      ]
     },
     "execution_count": 76,
     "metadata": {},
     "output_type": "execute_result"
    }
   ],
   "source": [
    "gastos_neg = datos [datos[\"Utilidad\"] <0 ]['Gasto']\n",
    "prom_gast_neg = gastos_neg.mean()\n",
    "prom_gast_neg"
   ]
  },
  {
   "cell_type": "markdown",
   "id": "61acb270-837e-4ef8-8745-1e725dd7295a",
   "metadata": {},
   "source": [
    "### Ingresos del año"
   ]
  },
  {
   "cell_type": "code",
   "execution_count": 28,
   "id": "144b6d95-f1b5-4e3c-a6bc-ea8593273338",
   "metadata": {},
   "outputs": [
    {
     "name": "stdout",
     "output_type": "stream",
     "text": [
      "Los ingresos totales del año son: 28020\n"
     ]
    }
   ],
   "source": [
    "suma_ingreso = datos[\"Ingreso\"].sum()\n",
    "print(f'Los ingresos totales del año son: {suma_ingreso}')"
   ]
  },
  {
   "cell_type": "markdown",
   "id": "5d5dcd43-303a-4cc6-87e6-6f5b0913e0fc",
   "metadata": {},
   "source": [
    "## 2. Crear estructuras usando numpy"
   ]
  },
  {
   "cell_type": "code",
   "execution_count": 66,
   "id": "2e66bce1-15fb-4910-a26b-143a753763f9",
   "metadata": {},
   "outputs": [
    {
     "data": {
      "text/plain": [
       "array([[1, 2],\n",
       "       [3, 4]])"
      ]
     },
     "execution_count": 66,
     "metadata": {},
     "output_type": "execute_result"
    }
   ],
   "source": [
    "import numpy as np\n",
    "\n",
    "A = np.array([\n",
    "    [1, 2],\n",
    "    [3, 4]\n",
    "])\n",
    "A"
   ]
  },
  {
   "cell_type": "code",
   "execution_count": 68,
   "id": "0f7fe86c-e908-4737-a242-449221c48058",
   "metadata": {},
   "outputs": [
    {
     "data": {
      "text/plain": [
       "array([[2],\n",
       "       [4]])"
      ]
     },
     "execution_count": 68,
     "metadata": {},
     "output_type": "execute_result"
    }
   ],
   "source": [
    "b = np.array([\n",
    "    [2],\n",
    "    [4]\n",
    "])\n",
    "b"
   ]
  },
  {
   "cell_type": "code",
   "execution_count": 70,
   "id": "08ad62d1-954d-43c2-8f9b-6a59a15dd5e5",
   "metadata": {},
   "outputs": [
    {
     "ename": "ValueError",
     "evalue": "shapes (2,2) and (1,2) not aligned: 2 (dim 1) != 1 (dim 0)",
     "output_type": "error",
     "traceback": [
      "\u001b[1;31m---------------------------------------------------------------------------\u001b[0m",
      "\u001b[1;31mValueError\u001b[0m                                Traceback (most recent call last)",
      "Cell \u001b[1;32mIn[70], line 2\u001b[0m\n\u001b[0;32m      1\u001b[0m b_Transpuesta \u001b[38;5;241m=\u001b[39m b\u001b[38;5;241m.\u001b[39mT\n\u001b[1;32m----> 2\u001b[0m Ab \u001b[38;5;241m=\u001b[39m np\u001b[38;5;241m.\u001b[39mdot(A, b_Transpuesta)\n\u001b[0;32m      3\u001b[0m Ab\n",
      "\u001b[1;31mValueError\u001b[0m: shapes (2,2) and (1,2) not aligned: 2 (dim 1) != 1 (dim 0)"
     ]
    }
   ],
   "source": [
    "b_Transpuesta = b.T\n",
    "Ab = np.dot(A, b_Transpuesta)\n",
    "Ab"
   ]
  },
  {
   "cell_type": "code",
   "execution_count": null,
   "id": "0d5f5008-fdde-4d15-9369-24374ebb2618",
   "metadata": {},
   "outputs": [],
   "source": []
  }
 ],
 "metadata": {
  "kernelspec": {
   "display_name": "Python 3 (ipykernel)",
   "language": "python",
   "name": "python3"
  },
  "language_info": {
   "codemirror_mode": {
    "name": "ipython",
    "version": 3
   },
   "file_extension": ".py",
   "mimetype": "text/x-python",
   "name": "python",
   "nbconvert_exporter": "python",
   "pygments_lexer": "ipython3",
   "version": "3.12.4"
  }
 },
 "nbformat": 4,
 "nbformat_minor": 5
}
