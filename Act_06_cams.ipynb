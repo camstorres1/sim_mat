{
 "cells": [
  {
   "cell_type": "markdown",
   "id": "6917d794-a8d1-4e5b-8d39-aff05e7bc6ca",
   "metadata": {},
   "source": [
    "# Actividad 6 \n",
    "# Camila Torres R\n",
    "## 9 de septiembre de 2024"
   ]
  },
  {
   "cell_type": "markdown",
   "id": "a3c27588-01cd-4f69-be0e-799c5a47dbba",
   "metadata": {},
   "source": [
    "### Ejercicio 1.\r\n",
    "\r\n",
    "Una carpintería local fabrica sillas, mesas, libreros y bases de cama. Hay dos empleados en esta carpintería: un empleado experimentado y un aprendiz. El aprendiz tarda aproximadamente 50% más tiempo que el carpintero experimentado en construir cualquier cosa, además de que tiene un desperdicio de alrededor de 20% de material. Los materiales y tiempos necesarios para construir algo se desglozan en ltabla. Las mesas se venden en 9000, las sillas en 3000, los libreros en 10000, y las bases de cama en 9000. Suponiendo una jornada de 40 horas a la semana y que tienen 100 unidades de madera, ¿qué les conviene construir durante una semana para maximizar su ganancia?ado?a:"
   ]
  },
  {
   "cell_type": "markdown",
   "id": "f09d2253-92dc-4f9c-812e-31d35e009010",
   "metadata": {},
   "source": [
    "- ¿Cuántas horas trabaja cada quién?\n",
    "- ¿Cuánto material se usa?\n",
    "- ¿Cuál es el ingreso total si se vende todo lo fabricado?"
   ]
  },
  {
   "cell_type": "markdown",
   "id": "c4db841e-1521-4b55-9bfb-6f9d537ea59c",
   "metadata": {},
   "source": [
    "IDENTIFICAR CRITERIO DE OPTIMIZACIÓN :\n",
    "- Maximizar sus ganancias \n",
    "\n",
    "¿SOBRE QUÉ PUEDO INFLUIR? :\n",
    "- Qué construye cada uno (as, am, al, ab, es, em, el, eb)"
   ]
  },
  {
   "cell_type": "markdown",
   "id": "7986be81-9fc7-4e1e-88b5-b2b8ea56b78e",
   "metadata": {},
   "source": [
    "CREAR FUNCIÓN DE COSTO :\n",
    "\n",
    "$ F(as, am, al, ab, es, em, el, eb) = 3000as + 3000es + 9000am + 9000em + 10000al + 10000el + 9000ab + 9000eb $"
   ]
  },
  {
   "cell_type": "markdown",
   "id": "cd2b0f1f-ce4c-4fb9-9075-e7c1ccb8b95e",
   "metadata": {},
   "source": [
    "$$ \\min_{as, am, al, ab, es, em, el, eb}  3000as + 3000es + 9000am + 9000em + 10000al + 10000el + 9000ab + 9000eb $$\n",
    "$$ \\text{s.t.} $$\n",
    "$$ 1.5as + 4.5am + 6al + 4.5ab \\leq 40 $$\n",
    "$$ 1es + 3em + 4el + 3eb \\leq 40 $$\n",
    "$$ 2.4as + 2es + 7.2am + 6em + 6al + 5el + 6ab + 5eb \\leq 100 $$"
   ]
  },
  {
   "cell_type": "code",
   "execution_count": 31,
   "id": "4ecc4a80-d778-42b6-b256-ae26e0413bf9",
   "metadata": {},
   "outputs": [
    {
     "data": {
      "text/plain": [
       "        message: Optimization terminated successfully. (HiGHS Status 7: Optimal)\n",
       "        success: True\n",
       "         status: 0\n",
       "            fun: -178666.66666666663\n",
       "              x: [ 0.000e+00  0.000e+00  0.000e+00  0.000e+00  6.667e+00\n",
       "                   4.000e+00  0.000e+00  8.000e+00]\n",
       "            nit: 3\n",
       "          lower:  residual: [ 0.000e+00  0.000e+00  0.000e+00  0.000e+00\n",
       "                              6.667e+00  4.000e+00  0.000e+00  8.000e+00]\n",
       "                 marginals: [ 5.800e+02  4.000e+02  1.740e+03  1.200e+03\n",
       "                              0.000e+00  0.000e+00  3.000e+02  0.000e+00]\n",
       "          upper:  residual: [       inf        inf        inf        inf\n",
       "                                    inf        inf        inf        inf]\n",
       "                 marginals: [ 0.000e+00  0.000e+00  0.000e+00  0.000e+00\n",
       "                              0.000e+00  0.000e+00  0.000e+00  0.000e+00]\n",
       "          eqlin:  residual: []\n",
       "                 marginals: []\n",
       "        ineqlin:  residual: [ 0.000e+00  0.000e+00  0.000e+00]\n",
       "                 marginals: [-4.667e+02 -1.000e+03 -1.200e+03]\n",
       " mip_node_count: 0\n",
       " mip_dual_bound: 0.0\n",
       "        mip_gap: 0.0"
      ]
     },
     "execution_count": 31,
     "metadata": {},
     "output_type": "execute_result"
    }
   ],
   "source": [
    "import numpy as np\n",
    "c = np.array([\n",
    "    -3000,\n",
    "    -3000,\n",
    "    -9000,\n",
    "    -9000,\n",
    "    -10000,\n",
    "    -10000,\n",
    "    -9000,\n",
    "    -9000\n",
    "])\n",
    "Aub = np.array([\n",
    "    [1.5, 0.0, 4.5, 0.0, 6.0, 0.0, 4.5, 0.0],\n",
    "    [0.0, 1.0, 0.0, 3.0, 0.0, 4.0, 0.0, 3.0],\n",
    "    [2.4, 2.0, 7.2, 6.0, 6.0, 5.0, 6.0, 5.0],\n",
    "])\n",
    "\n",
    "bub = np.array([\n",
    "    40, \n",
    "    40,\n",
    "    100\n",
    "])\n",
    "\n",
    "import scipy.optimize as opt\n",
    "opt.linprog(c, Aub, bub)"
   ]
  },
  {
   "cell_type": "markdown",
   "id": "5e96d74f-0377-4ffa-8334-cb4b10107f13",
   "metadata": {},
   "source": [
    "2. La carpintería recibió una orden por 3 combos de mesa + 6 sillas.tal?\r\n",
    " "
   ]
  },
  {
   "cell_type": "markdown",
   "id": "0002c0fb-aa59-4730-87fc-71d4b84a3aba",
   "metadata": {},
   "source": [
    "- ¿Se puede cumplir la orden? Si sí, ¿qué es lo que tienen que fabricar en el resto del tiempo y con el resto del material para maximizar su ganancia\n",
    "- ¿Cuántas horas trabaja cada quién?\n",
    "- ¿Cuánto material se usa?\n",
    "- ¿Cuál es el nuevo ingreso total?"
   ]
  },
  {
   "cell_type": "code",
   "execution_count": null,
   "id": "0ff9b6dd-f0f2-4ae3-aa11-6939e478b543",
   "metadata": {},
   "outputs": [],
   "source": []
  }
 ],
 "metadata": {
  "kernelspec": {
   "display_name": "Python 3 (ipykernel)",
   "language": "python",
   "name": "python3"
  },
  "language_info": {
   "codemirror_mode": {
    "name": "ipython",
    "version": 3
   },
   "file_extension": ".py",
   "mimetype": "text/x-python",
   "name": "python",
   "nbconvert_exporter": "python",
   "pygments_lexer": "ipython3",
   "version": "3.12.4"
  }
 },
 "nbformat": 4,
 "nbformat_minor": 5
}
