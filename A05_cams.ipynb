{
 "cells": [
  {
   "cell_type": "markdown",
   "id": "27500f36-2b0a-40bc-9990-6da066d2e0bc",
   "metadata": {},
   "source": [
    "# Actividad 05\n",
    "## Camila Torres Rodríguez\n",
    "## 05/09/2024"
   ]
  },
  {
   "cell_type": "markdown",
   "id": "622679e6-becb-4e81-b8b6-78c9fe5e7fee",
   "metadata": {},
   "source": [
    "#### EJERCICIO 1"
   ]
  },
  {
   "cell_type": "markdown",
   "id": "8ef45da9-9b12-49db-9397-893c86582695",
   "metadata": {},
   "source": [
    "#### Se quiere producir comida para gatos de la manera más barata, no obstante se debe también asegurar que se cumplan los datos requeridos de analisis nutricional. Por lo que se quiere variar la cantidad de cada ingrediente para cumplir con los estandares nutricionales. Los requisitos que se tienen es que en 100 gramos, se deben tener por lo menos 9 gramos de proteína y  7 gramos de grasa. Así mismo, no se debe tener más de 2.5 gramos de fibra y 0.5 gramos de sal."
   ]
  },
  {
   "cell_type": "markdown",
   "id": "5f5e95d6-da3f-4645-b6ba-2190f1580b04",
   "metadata": {},
   "source": [
    "IDENTIFICAR CRITERIO DE OPTIMIZACIÓN :\n",
    "- MINIMIZAR COSTO de la comida para gatos\n",
    "\n",
    "¿SOBRE QUÉ PUEDO INFLUIR? :\n",
    "- Gramos de pollo (p), carne(m), cordero(c), arroz(a), trigo(t), gel(g)"
   ]
  },
  {
   "cell_type": "markdown",
   "id": "09ffe851-27f1-4c3b-adf8-5ada14d4a5da",
   "metadata": {},
   "source": [
    "CREAR FUNCIÓN DE COSTO :\n",
    "\n",
    "$ F(p, m, c, a, t, g) = 0.012p + 0.009m + 0.010c + 0.003a + 0.005t + 0.002g $"
   ]
  },
  {
   "cell_type": "markdown",
   "id": "ab838691-9d5e-48b0-931e-eb31b5213fd4",
   "metadata": {},
   "source": [
    "INFORMACIÓN ADICIONAL :\n",
    "- GRAMOS TOTALES = 100g\n",
    "- PROTEINA $ \\geq $ 9g\n",
    "- GRASAS $ \\geq $ 7g\n",
    "- FIBRA $ \\leq $ 2.5g\n",
    "- SAL $ \\leq $ 0.5g"
   ]
  },
  {
   "cell_type": "markdown",
   "id": "8d94b8ed-adc8-48be-bf10-aa9e03d490d3",
   "metadata": {},
   "source": [
    "---"
   ]
  },
  {
   "cell_type": "markdown",
   "id": "c29b68f8-ac79-4e5e-b696-9b2825079001",
   "metadata": {},
   "source": [
    "$$ \\min_{p, m, c, a, t, g}  0.012p + 0.009m + 0.010c + 0.003a + 0.005t + 0.002g$$\n",
    "$$ \\text{s.t.} $$\n",
    "$$ p + m + c + a + t + g = 100 $$\n",
    "$$ 0.10p + 0.20m + 0.15c + 0.04t \\geq 9 $$\n",
    "$$ 0.08p + 0.10m + 0.11c + 0.01a + 0.01t \\geq 7 $$\n",
    "$$ 0.001p + .005m + 0.005c + 0.10a + 0.15t \\leq 2.5 $$\n",
    "$$ 0.002p + 0.005m + 0.007c + 0.002a + 0.008t \\leq 0.5 $$"
   ]
  },
  {
   "cell_type": "markdown",
   "id": "3b5acc7f-384a-44f5-bfbe-c8a4aaca5504",
   "metadata": {},
   "source": [
    "---"
   ]
  },
  {
   "cell_type": "markdown",
   "id": "69ffc1f7-2cbf-44cd-8a8c-1856292d8898",
   "metadata": {},
   "source": [
    "#### EJERCICIO 2"
   ]
  },
  {
   "cell_type": "markdown",
   "id": "3444b032-6050-4e3c-9a93-0d1cd7dbb088",
   "metadata": {},
   "source": [
    "#### La Comisión Federal de Electricidad (CFE) dispone de tres plantas de generación para satisfacer la demanda diaria eléctrica en tres ciudades, Guadalajara, León y Morelia. Las plantas 1, 2 y 3 pueden satisfacer 75, 50 y 60 millones de kW al día respectivamente. Las necesidades de las ciudades de Guadalajara, León y Morelia son de 60, 45 y 60 millones de Kw al día respectivamente. Los costos asociados al envío de suministro energético por cada millón de kW entre cada planta y cada ciudad son los registrados en la siguiente tabla.a."
   ]
  },
  {
   "cell_type": "markdown",
   "id": "32c0aeed-2831-4e76-a334-817f3c5243ec",
   "metadata": {},
   "source": [
    "IDENTIFICAR CRITERIO DE OPTIMIZACIÓN :\n",
    "- MINIMIZAR COSTO DE ENVÍO DE ELECTRICIDAD A CADA CIUDAD \n",
    "\n",
    "¿SOBRE QUÉ PUEDO INFLUIR? :\n",
    "- Millones de kW que se envían a cada ciudad de cada planta\n",
    "- $p_1g, p_1m, p_1l, p_2g, p_2m, p_2l, p_3g, p_3m, p_3l$"
   ]
  },
  {
   "cell_type": "markdown",
   "id": "9afc52d6-d411-4f20-8a08-e7ea599e670a",
   "metadata": {},
   "source": [
    "CREAR FUNCIÓN DE COSTO :\n",
    "\n",
    "$ F(p_1g, p_1l, p_1m, p_2g, p_2l, p_2m, p_3g, p_3l, p_3m) = 5p_1g + 2p_1l + 7p_1m + 3p_2g + 4p_2l + 5p_2m + 5p_3g + 2p_3l + 3p_3m $"
   ]
  },
  {
   "cell_type": "markdown",
   "id": "edd0ef5c-0f9e-4e90-9176-e27446b68699",
   "metadata": {},
   "source": [
    "INFORMACIÓN ADICIONAL :\n",
    "- p_1 $ \\leq $ 75 MkW \n",
    "- p_2 $ \\leq $ 50 MkW\n",
    "- p_3 $ \\leq $ 60 MkW\n",
    "- Guadalajara = 60 MkW\n",
    "- León = 45 MkW\n",
    "- Morelia = 60 MkW"
   ]
  },
  {
   "cell_type": "markdown",
   "id": "584d51dc-cf15-4e69-9009-82f1be745516",
   "metadata": {},
   "source": [
    "$$ \\min_{$p_1g, p_1l, p_1m, p_2g, p_2l, p_2m, p_3g, p_3l, p_3m$}  5p_1g + 2p_1l + 7p_1m + 3p_2g + 4p_2l + 5p_2m + 5p_3g + 2p_3l + 3p_3m$$\n",
    "$$ \\text{s.t.} $$\n",
    "$$ p_1g + p_1m + p_1l \\geq 75 $$\n",
    "$$ p_2g + p_2m + p_2l \\geq 50 $$\n",
    "$$ p_3g + p_3m + p_3l \\geq 60 $$\n",
    "\n",
    "$$ p_1g + p_2g + p_3g = 60 $$\n",
    "$$ p_1l + p_2l + p_3l = 45 $$\n",
    "$$ p_1m + p_2m + p_3m = 60 $$"
   ]
  },
  {
   "cell_type": "code",
   "execution_count": null,
   "id": "93ee7a8e-2beb-437b-bd7c-93ff91431b07",
   "metadata": {},
   "outputs": [],
   "source": []
  }
 ],
 "metadata": {
  "kernelspec": {
   "display_name": "Python 3 (ipykernel)",
   "language": "python",
   "name": "python3"
  },
  "language_info": {
   "codemirror_mode": {
    "name": "ipython",
    "version": 3
   },
   "file_extension": ".py",
   "mimetype": "text/x-python",
   "name": "python",
   "nbconvert_exporter": "python",
   "pygments_lexer": "ipython3",
   "version": "3.12.4"
  }
 },
 "nbformat": 4,
 "nbformat_minor": 5
}
