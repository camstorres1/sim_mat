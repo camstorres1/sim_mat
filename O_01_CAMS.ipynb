{
 "cells": [
  {
   "cell_type": "markdown",
   "id": "44f5a834-194e-43b4-9db8-d564ddbd7c31",
   "metadata": {},
   "source": [
    "# OPCIONAL\n",
    "# Camila Torres Rodríguez\n",
    "# 29 de Agosto de 2024\n",
    "---"
   ]
  },
  {
   "cell_type": "markdown",
   "id": "f14c2e97-da0f-4a1f-88a5-30515a99de36",
   "metadata": {},
   "source": [
    "## EJERCICIO 1"
   ]
  },
  {
   "cell_type": "markdown",
   "id": "a7b58bcf-f1cd-4c13-a363-601f902958c9",
   "metadata": {},
   "source": [
    "En una empresa el salario de un empleado se calcula de la siguiente manera:\n",
    "\n",
    "- 500 USD mensuales.\n",
    "- 20 USD adicionales por cada año de antigüedad.\n",
    "- 15 USD de apoyo gubernamental por cada dependiente.\n",
    "- 100 USD si no hubo ausencias injustificadas.\n",
    "\n",
    "Escribe una función que reciba la antigüedad del empleado y su cantidad de dependientes como número entero, y la confirmación de asistencia como booleano. Si se ingresa un tipo de dato en una variable diferente al esperado la función debe regresar \"Error. Revisar entradas.\"\n",
    "\n",
    "La función, en caso que las variables sean ingresadas de manera correcta, debe regresar:\n",
    "\n",
    "\"El salario total es xxx: 400 de salario mínimo + yy por y años de experiencia + zz por z dependientes + 100 por no inasistencias.\""
   ]
  },
  {
   "cell_type": "code",
   "execution_count": 76,
   "id": "d407e60b-dae8-4b21-b366-fa533ed19550",
   "metadata": {},
   "outputs": [
    {
     "name": "stdout",
     "output_type": "stream",
     "text": [
      "El salario total es 730: 500 de salario mínimo + 100 por 5 años de experiencia + 30 por 2 dependientes + 100 por no inasistencias.\n"
     ]
    }
   ],
   "source": [
    "def salario(antiguedad, dependientes, asistencia):\n",
    "    if not (type(antiguedad) is int and type(dependientes) is int and type(asistencia) is bool) : \n",
    "        return \"Error. Revisar el tipo de entrada ingresada.\"\n",
    "\n",
    "    salario_base = 500\n",
    "    bono_antiguedad = 20 * antiguedad\n",
    "    bono_dependientes = 15 * dependientes\n",
    "    bono_asistencia = 100 if asistencia else 0\n",
    "\n",
    "    salario_total = salario_base + bono_antiguedad + bono_dependientes + bono_asistencia\n",
    "\n",
    "    regresar = (f\"El salario total es {salario_total}: {salario_base} de salario mínimo + {bono_antiguedad} por {antiguedad} años de experiencia + {bono_dependientes} por {dependientes} dependientes + {bono_asistencia} por no inasistencias.\")\n",
    "    return regresar\n",
    "\n",
    "resultado = salario(5, 2, True)\n",
    "print (resultado)\n"
   ]
  },
  {
   "cell_type": "markdown",
   "id": "976238a8-570b-4ed3-8c6a-73322e072165",
   "metadata": {},
   "source": [
    "---"
   ]
  },
  {
   "cell_type": "markdown",
   "id": "2425f961-ab26-4eb7-bfed-3b8c705492d5",
   "metadata": {},
   "source": [
    "## EJERCICIO 2"
   ]
  },
  {
   "cell_type": "markdown",
   "id": "1d2f4398-4972-4082-af1a-e17ba8a8d61f",
   "metadata": {},
   "source": [
    "Escribe una función que recibe un número entero de 3 cifras y que responda de la siguiente manera:\n",
    "\n",
    "1. El número tiene x centenas\n",
    "2. El número tiene y decenas\n",
    "3. El número tiene z unidades"
   ]
  },
  {
   "cell_type": "code",
   "execution_count": 35,
   "id": "82fc4d2d-f04c-43d6-ac67-129039117176",
   "metadata": {},
   "outputs": [
    {
     "name": "stdout",
     "output_type": "stream",
     "text": [
      "El número tiene 2 centenas.\n",
      "El número tiene 3 decenas.\n",
      "El número tiene 4 unidades.\n"
     ]
    }
   ],
   "source": [
    "def numero(n) :\n",
    "    if 100 <= n <= 999 :\n",
    "        x = n//100 #el // hace que te de la división sin residuo\n",
    "        y = (n%100)//10\n",
    "        z = (n%10)\n",
    "        print (f\"El número tiene {x} centenas.\")\n",
    "        print (f\"El número tiene {y} decenas.\")\n",
    "        print (f\"El número tiene {z} unidades.\")\n",
    "    else :\n",
    "        print (\"El número no es de tres cifras.\")\n",
    "numero(234)"
   ]
  },
  {
   "cell_type": "markdown",
   "id": "b4c59dde-ab62-463e-bdc0-618c8d331690",
   "metadata": {},
   "source": [
    "---"
   ]
  },
  {
   "cell_type": "markdown",
   "id": "0d704468-986b-4858-bafb-cd0660802ca4",
   "metadata": {},
   "source": [
    "## EJERCICIO 3"
   ]
  },
  {
   "cell_type": "markdown",
   "id": "143acc02-25d5-49a5-8f26-caec271cdf6a",
   "metadata": {},
   "source": [
    "En un cibercafé hay 2 formas de cobrar a un cliente. Se cobra 10 pesos la hora si el cliente está registrado como miembro, y 25 si no. Además, el impuesto cobrado a un miembro es del 10% y a un no miembro de 20%.\n",
    "\n",
    "Los clientes registrados como miembros son:\n",
    "\n",
    "- Magnolia\n",
    "- Pedro\n",
    "- Iván\n",
    "- Sabrina\n",
    "- Montserrat\n",
    "- Miguel\n",
    "\n",
    "Escribe una función que reciba como entrada:\n",
    "\n",
    "Cuántas horas estuvo el cliente usando el equipo.\n",
    "El nombre del cliente\n",
    "La función debe buscar al cliente en la base de datos para saber si es miembro, y debe imprimir:\n",
    "\n",
    "\"El usuario (no) es un miembro y estuvo (x) horas + el impuesto del (y)%. Total: 'zzz'.\""
   ]
  },
  {
   "cell_type": "code",
   "execution_count": 47,
   "id": "484404b4-66c0-4d44-ae33-70bcab893668",
   "metadata": {},
   "outputs": [
    {
     "name": "stdout",
     "output_type": "stream",
     "text": [
      "El usuario Iván es un miembro y estuvo 5 horas + el impuesto del 10%. Total: 55.00 pesos.\n"
     ]
    }
   ],
   "source": [
    "def cobro(horas, nombre):\n",
    "    miembros = [\"Magnolia\", \"Pedro\", \"Iván\", \"Sarina\", \"Montserrat\", \"Miguel\"]\n",
    "\n",
    "    if nombre in miembros : \n",
    "        tarifa = 10\n",
    "        impuesto = 0.10\n",
    "        es_miembro = True\n",
    "\n",
    "    else :\n",
    "        tarifa = 25\n",
    "        impuesto = 0.20\n",
    "        es_miembro = False\n",
    "    \n",
    "    costo = tarifa*horas\n",
    "    costo_impuesto = costo * impuesto\n",
    "    total = costo + costo_impuesto\n",
    "\n",
    "    if es_miembro:\n",
    "        cobrar = f\"El usuario {nombre} es un miembro y estuvo {horas} horas + el impuesto del {int(impuesto * 100)}%. Total: {total:.2f} pesos.\"\n",
    "    else :\n",
    "        cobrar = f\"El usuario {nombre} no es un miembro y estuvo {horas} horas + el impuesto del {int(impuesto * 100)}%. Total: {total:.2f} pesos.\"\n",
    "\n",
    "    print (cobrar)\n",
    "\n",
    "cobro(5, \"Iván\")"
   ]
  },
  {
   "cell_type": "markdown",
   "id": "a16657d1-2aa5-4326-899b-fc0d62d22aeb",
   "metadata": {},
   "source": [
    "---"
   ]
  },
  {
   "cell_type": "markdown",
   "id": "fc9baaa3-7298-43a7-b49c-868e07fe6b3d",
   "metadata": {},
   "source": [
    "## EJERCICIO 4"
   ]
  },
  {
   "cell_type": "markdown",
   "id": "7c4c87aa-6b0d-403b-ada9-f096aeca2858",
   "metadata": {},
   "source": [
    "\r\n",
    "Crea una función que reciba un número entero 'n' y que regrese la sumatoria de 1 hasta ese número. E.g. sumatoria(5) regresa 1+2+3+4+5 = 15. No se puede usar la fórmula de respuesta para una sumatoria, se deben usar cicloa 0 o si el estado premium es verdadero."
   ]
  },
  {
   "cell_type": "code",
   "execution_count": 65,
   "id": "e0f66a5c-ff9f-4bdc-b6be-c2bc995ff01f",
   "metadata": {},
   "outputs": [
    {
     "name": "stdout",
     "output_type": "stream",
     "text": [
      "La sumatoria de 1 hasta el número ingresado es: 15\n"
     ]
    }
   ],
   "source": [
    "def sumatoria (n) : \n",
    "    suma = 0\n",
    "    for i in range (1, n +1):\n",
    "        suma += i\n",
    "    return suma \n",
    "\n",
    "sumatoria (5)\n",
    "\n",
    "resultado = sumatoria (5)\n",
    "\n",
    "print (f\"La sumatoria de 1 hasta el número ingresado es: {resultado}\")"
   ]
  },
  {
   "cell_type": "markdown",
   "id": "9ceda702-c5f1-4f4e-bc06-5045a2c1165d",
   "metadata": {},
   "source": [
    "---"
   ]
  },
  {
   "cell_type": "markdown",
   "id": "bb3659d0-d57f-4337-953f-8127210ddeae",
   "metadata": {},
   "source": [
    "## EJERCICIO 5"
   ]
  },
  {
   "cell_type": "markdown",
   "id": "6186435c-9374-4650-a8df-e82d8d2e1306",
   "metadata": {},
   "source": [
    "Crea una función que calcule el promedio de una lista de números. Usar ciclos para iterar sobre la lista e imprimir error si alguno de los objetos en la lista no es un número."
   ]
  },
  {
   "cell_type": "code",
   "execution_count": 42,
   "id": "508da839-61c7-4557-a000-8d6e80c46a61",
   "metadata": {},
   "outputs": [
    {
     "name": "stdout",
     "output_type": "stream",
     "text": [
      "El promedio de la lista es 205.75.\n"
     ]
    }
   ],
   "source": [
    "def promedio(lista) : \n",
    "    suma = 0\n",
    "    contador = 0\n",
    "\n",
    "    for elemento in lista:\n",
    "        suma += elemento\n",
    "        contador += 1\n",
    "\n",
    "    if contador == 0 :\n",
    "        return 0\n",
    "\n",
    "    promedio = suma/contador\n",
    "    return promedio\n",
    "\n",
    "lista = [16, 76, 84, 647]\n",
    "prom_lista = promedio(lista)\n",
    "\n",
    "print (f\"El promedio de la lista es {prom_lista}.\")"
   ]
  },
  {
   "cell_type": "markdown",
   "id": "479dc09c-7601-4e64-849c-4a3e4cf24ab1",
   "metadata": {},
   "source": [
    "---"
   ]
  },
  {
   "cell_type": "markdown",
   "id": "33d21549-6991-45ff-91d3-a4a78a8e058c",
   "metadata": {},
   "source": [
    "## EJERCICIO 6"
   ]
  },
  {
   "cell_type": "markdown",
   "id": "3030002f-40f8-47c5-a54a-24ad8e5b3a6b",
   "metadata": {},
   "source": [
    "Tienes las siguientes listas que corresponden a nombres de miembros de un gimnasio y su código de acceso:\n",
    "\n",
    "[\"María\", \"Juan\", \"Jorge\", \"Nina\", \"Álex\", \"Beatriz\"]\n",
    "\n",
    "[[32343, 12134, 25342, 35342, 42343, 32134, 15342, 25342]\n",
    "\n",
    "La relación es uno a uno.\n",
    "\n",
    "Crea un programa que te ayuda a ordenar estas dos listas:\n",
    "\n",
    "1. En orden alfabético (respetando también la lista de códigos de acceso)\n",
    "\n",
    "2. De código de acceso menor a mayor (respetando la lista de nombres)"
   ]
  },
  {
   "cell_type": "code",
   "execution_count": null,
   "id": "6cb43679-ace1-4cb8-8bd6-8ee2b4d0993b",
   "metadata": {},
   "outputs": [],
   "source": [
    "nombres = [\"María\", \"Juan\", \"Jorge\", \"Nina\", \"Álex\", \"Beatriz\"]\n",
    "acceso = [32343, 12134, 25342, 35342, 42343, 32134, 15342, 25342]\n",
    "\n",
    "for i in range (len(nombres)) :\n",
    "    for "
   ]
  },
  {
   "cell_type": "markdown",
   "id": "ffd10145-1f99-4b1d-acc7-8ca9c024e2b6",
   "metadata": {},
   "source": [
    "---"
   ]
  },
  {
   "cell_type": "markdown",
   "id": "8380578c-2e7f-4b73-9d43-c72ba51986bd",
   "metadata": {},
   "source": [
    "## EJERCICIO 7"
   ]
  },
  {
   "cell_type": "markdown",
   "id": "76b2e2a2-d175-4a76-a9d3-0dc9ef064ca4",
   "metadata": {},
   "source": [
    "Un banco tiene dos listas de clientes\n",
    "\n",
    "clientes activos\n",
    "clientes inactivos\n",
    "Cada valor en cualquiera de las listas se compone de la siguiente manera:\n",
    "\n",
    "[ str: nombre,  str: apellido,  float: saldo,  bool: premium ]\n",
    "\n",
    "Por ejemplo: la lista de clientes activos podría contener:\n",
    "\n",
    "clientes_activos = [[\"gabriel\", \"morales\", 5, False], [\"magnolia\", \"lara\", 0, True], [\"iván\", \"ruiz\", 0, False]]\n",
    "\n",
    "Crea una función que itere sobre la lista de clientes activos y que pase un registro a la lista de clientes inactivos si el saldo es 0 y el estado premium es falso.\n",
    "\n",
    "Crea otra función que itere sobre la lista de clientes inactivos y que pase registros a activos si el saldo es mayor a 0 o si el estado premium es verdadero."
   ]
  },
  {
   "cell_type": "code",
   "execution_count": 87,
   "id": "4e2efb77-2ab7-45c5-9b60-713e144072ed",
   "metadata": {},
   "outputs": [
    {
     "name": "stdout",
     "output_type": "stream",
     "text": [
      "Clientes activos:  [['gabriel', 'morales', 5, False], ['magnolia', 'lara', 0, True]]\n",
      "Clientes Inactivos:  [['iván', 'ruiz', 0, False]]\n"
     ]
    }
   ],
   "source": [
    "clientes_activos = [[\"gabriel\", \"morales\", 5, False], [\"magnolia\", \"lara\", 0, True], [\"iván\", \"ruiz\", 0, False]]\n",
    "clientes_inactivos = []\n",
    "\n",
    "def mover_a_inactivos(clientes_activos, clientes_inactivos) :\n",
    "    for cliente in clientes_activos [:]:\n",
    "        nombre, apellido, saldo, premium = cliente\n",
    "        if saldo == 0 and not premium:\n",
    "            clientes_activos.remove(cliente)\n",
    "            clientes_inactivos.append(cliente)\n",
    "\n",
    "def mover_a_activos(clientes_inactivos, clientes_activos):\n",
    "    for cliente in clientes_inactivos [:]:\n",
    "        nombre, apellido, saldo, premium = cliente\n",
    "        if saldo > 0 or premium :\n",
    "            clientes_inactivos.remove(cliente)\n",
    "            clientes_activos.apped(cliente)\n",
    "\n",
    "mover_a_inactivos(clientes_activos, clientes_inactivos)\n",
    "mover_a_activos(clientes_inactivos, clientes_activos)\n",
    "\n",
    "print(\"Clientes activos: \", clientes_activos)\n",
    "print(\"Clientes Inactivos: \", clientes_inactivos)"
   ]
  },
  {
   "cell_type": "markdown",
   "id": "1ac54ba4-4b10-4bea-bfdf-4d5e5315a53a",
   "metadata": {},
   "source": [
    "---"
   ]
  }
 ],
 "metadata": {
  "kernelspec": {
   "display_name": "Python 3 (ipykernel)",
   "language": "python",
   "name": "python3"
  },
  "language_info": {
   "codemirror_mode": {
    "name": "ipython",
    "version": 3
   },
   "file_extension": ".py",
   "mimetype": "text/x-python",
   "name": "python",
   "nbconvert_exporter": "python",
   "pygments_lexer": "ipython3",
   "version": "3.12.4"
  }
 },
 "nbformat": 4,
 "nbformat_minor": 5
}
