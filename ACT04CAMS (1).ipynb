{
 "cells": [
  {
   "cell_type": "markdown",
   "id": "5babef48-ec34-4350-ae18-38c09c445ca2",
   "metadata": {},
   "source": [
    "# Actividad 04\n",
    "## Camila Torres Rodríguez\n",
    "---"
   ]
  },
  {
   "cell_type": "markdown",
   "id": "16acf767-51a6-4966-9784-b4aa1b46d0da",
   "metadata": {},
   "source": [
    "### 1. Utiliza sympy y encuentra los valores de las incógnitas que hagan que los siguientes sistemas de ecuaciones sean verdaderos:"
   ]
  },
  {
   "cell_type": "markdown",
   "id": "3b699529-c021-408a-a362-8e82adc6adc0",
   "metadata": {},
   "source": [
    "#### EJERCICIO 1"
   ]
  },
  {
   "cell_type": "code",
   "execution_count": 185,
   "id": "d73cc7f3-3296-4206-a3dd-2c618e752035",
   "metadata": {},
   "outputs": [
    {
     "data": {
      "text/plain": [
       "{x: 6, y: 4}"
      ]
     },
     "execution_count": 185,
     "metadata": {},
     "output_type": "execute_result"
    }
   ],
   "source": [
    "import sympy as sp\n",
    "\n",
    "sp.var(\"x\")\n",
    "sp.var(\"y\")\n",
    "\n",
    "ec1 = sp.Eq(x + y, 10)\n",
    "ec2 = sp.Eq(x - y, 2)\n",
    "\n",
    "solucion = sp.solve((ec1, ec2), (x, y))\n",
    "solucion"
   ]
  },
  {
   "cell_type": "markdown",
   "id": "d15c95fd-e914-4696-8f35-3e83a107915e",
   "metadata": {},
   "source": [
    "#### EJERCICIO 2"
   ]
  },
  {
   "cell_type": "code",
   "execution_count": 189,
   "id": "d32fc16d-1f65-4206-bd09-3b922af85e07",
   "metadata": {},
   "outputs": [
    {
     "data": {
      "text/plain": [
       "{x: 1.00000000000000, y: 1.00000000000000}"
      ]
     },
     "execution_count": 189,
     "metadata": {},
     "output_type": "execute_result"
    }
   ],
   "source": [
    "import sympy as sp\n",
    "\n",
    "sp.var(\"x\")\n",
    "sp.var(\"y\")\n",
    "\n",
    "ec1 = sp.Eq((3*x - 2*y)/3 + 4*y, 13/3)\n",
    "ec2 = sp.Eq((2*(-2*y+x)/3) - (3*x)/2, -13/6)\n",
    "\n",
    "solucion = sp.solve((ec1, ec2), (x, y))\n",
    "solucion"
   ]
  },
  {
   "cell_type": "markdown",
   "id": "92a91281-fb31-4e9d-9302-23d7aafbd96c",
   "metadata": {},
   "source": [
    "#### EJERCICIO 3"
   ]
  },
  {
   "cell_type": "code",
   "execution_count": 193,
   "id": "4551fcf8-0ee2-4ccb-93c7-1aa7cb4f8da8",
   "metadata": {},
   "outputs": [
    {
     "data": {
      "text/plain": [
       "[(1 - sqrt(11), -sqrt(11) - 2), (1 + sqrt(11), -2 + sqrt(11))]"
      ]
     },
     "execution_count": 193,
     "metadata": {},
     "output_type": "execute_result"
    }
   ],
   "source": [
    "import sympy as sp\n",
    "\n",
    "sp.var(\"x\")\n",
    "sp.var(\"y\")\n",
    "sp.var(\"z\")\n",
    "\n",
    "ec1 = sp.Eq(x + y -z, 10)\n",
    "ec2 = sp.Eq(x - y, 2)\n",
    "ec3 = sp.Eq(y + z)\n",
    "\n",
    "solucion = sp.solve((ec1, ec2), (x, y))\n",
    "solucion"
   ]
  },
  {
   "cell_type": "markdown",
   "id": "0ed741a6-03fa-4e62-aff2-dd24c7c54034",
   "metadata": {},
   "source": [
    "#### EJERCICIO 4"
   ]
  },
  {
   "cell_type": "code",
   "execution_count": null,
   "id": "43ec5f0b-75d2-43eb-b539-29d1df1384c6",
   "metadata": {},
   "outputs": [],
   "source": [
    "import sympy as sp\n",
    "\n",
    "sp.var(\"x\")\n",
    "sp.var(\"y\")\n",
    "\n",
    "ec1 = sp.Eq(x + y, 10)\n",
    "ec2 = sp.Eq(x - y, 2)\n",
    "\n",
    "solucion = sp.solve((ec1, ec2), (x, y))\n",
    "solucion"
   ]
  },
  {
   "cell_type": "markdown",
   "id": "1b100702-22d6-4f4a-827b-7171bdc00754",
   "metadata": {},
   "source": [
    "### 2. Encuentra los puntos críticos usando cálculo diferencial, decide si son máximos o mínimos usando el criterio de la segunda derivada, y grafica para decidir se son óptimos locales o globales:"
   ]
  },
  {
   "cell_type": "markdown",
   "id": "982fb2c7-e265-416e-a66d-daff626fe5e4",
   "metadata": {},
   "source": [
    "#### EJERCICIO 1\n",
    "$$ f(x) = 1235 +113x - 6x^2 $$"
   ]
  },
  {
   "cell_type": "code",
   "execution_count": 167,
   "id": "52e7d315-c373-40d9-81ba-208ceab99e14",
   "metadata": {},
   "outputs": [
    {
     "name": "stdout",
     "output_type": "stream",
     "text": [
      "El punto crítico está en 113/12\n",
      "El punto crítico es un máximo global -12\n"
     ]
    },
    {
     "data": {
      "text/plain": [
       "[<matplotlib.lines.Line2D at 0x2f6b8b27b30>]"
      ]
     },
     "execution_count": 167,
     "metadata": {},
     "output_type": "execute_result"
    },
    {
     "data": {
      "image/png": "[encoded data removed]",
      "text/plain": [
       "<Figure size 600x300 with 1 Axes>"
      ]
     },
     "metadata": {},
     "output_type": "display_data"
    }
   ],
   "source": [
    "import sympy as sp\n",
    "\n",
    "sp.var(\"x\")\n",
    "def f(x) : \n",
    "    return 1235 +113*x - 6*x**2\n",
    "dy = sp.diff (f(x), x) \n",
    "pc = sp.solve(dy, x)\n",
    "print (\"El punto crítico está en \" +str(pc[0]))\n",
    "\n",
    "d2y = sp.diff(dy, x)\n",
    "d2y.subs(x, pc[0])\n",
    "if d2y > 0 : \n",
    "    print (\"El punto crítico es un mínimo global \" +str(d2y))\n",
    "else :\n",
    "    print (\"El punto crítico es un máximo global \" +str(d2y))\n",
    "\n",
    "import numpy as np\n",
    "x = np.linspace(-20, 40, 1000)\n",
    "plt.figure(figsize = (6,3))\n",
    "plt.plot(x, f(x))\n",
    "plt.grid()\n",
    "plt.plot(pc[0], f(pc[0]), \"*r\")"
   ]
  },
  {
   "cell_type": "markdown",
   "id": "84b4fc01-a5f7-4f67-8713-3089d022d1fb",
   "metadata": {},
   "source": [
    "#### EJERCICIO 2\n",
    "$$ f(x) = -3 + x + \\pi/x $$"
   ]
  },
  {
   "cell_type": "code",
   "execution_count": 169,
   "id": "49c34af4-08e3-4007-9667-fd337c6b1048",
   "metadata": {},
   "outputs": [
    {
     "name": "stdout",
     "output_type": "stream",
     "text": [
      "El punto crítico está en 1.77245385090552\n",
      "El punto crítico es un mínimo global\n"
     ]
    },
    {
     "name": "stderr",
     "output_type": "stream",
     "text": [
      "C:\\Users\\camil\\AppData\\Local\\Temp\\ipykernel_18616\\2390785471.py:5: RuntimeWarning: divide by zero encountered in divide\n",
      "  return -3 + x + (np.pi)/x\n"
     ]
    },
    {
     "data": {
      "text/plain": [
       "[<matplotlib.lines.Line2D at 0x2f6b9d12630>]"
      ]
     },
     "execution_count": 169,
     "metadata": {},
     "output_type": "execute_result"
    },
    {
     "data": {
      "image/png": "[encoded data removed]",
      "text/plain": [
       "<Figure size 600x300 with 1 Axes>"
      ]
     },
     "metadata": {},
     "output_type": "display_data"
    }
   ],
   "source": [
    "import sympy as sp\n",
    "\n",
    "sp.var(\"x\")\n",
    "def f(x) : \n",
    "    return -3 + x + (np.pi)/x\n",
    "dy = sp.diff (f(x), x) \n",
    "pc = sp.solve(dy, x)\n",
    "print (\"El punto crítico está en \" +str(pc[1]))\n",
    "\n",
    "d2y = sp.diff(dy, x)\n",
    "d2y_evaluado = d2y.subs(x, pc[1])\n",
    "if d2y_evaluado > 0 : \n",
    "    print (\"El punto crítico es un mínimo global\")\n",
    "else :\n",
    "    print (\"El punto crítico es un máximo global\" )\n",
    "\n",
    "import numpy as np\n",
    "x = np.linspace(0, 15, 1000)\n",
    "plt.figure(figsize = (6,3))\n",
    "plt.plot(x, f(x))\n",
    "plt.grid()\n",
    "plt.plot(pc[1], f(pc[1]), \"*r\")"
   ]
  },
  {
   "cell_type": "markdown",
   "id": "24831387-cd69-40c2-88b2-a4f9b000e39b",
   "metadata": {},
   "source": [
    "#### EJERCICIO 3\n",
    "$$ 2 - 3x + (8 - 2x^2)^(1/2) $$"
   ]
  },
  {
   "cell_type": "code",
   "execution_count": 173,
   "id": "9fde1bbc-5094-443f-8b95-f51849411e73",
   "metadata": {},
   "outputs": [
    {
     "name": "stdout",
     "output_type": "stream",
     "text": [
      "El punto crítico está en -1.80906806746658\n",
      "El punto crítico es un máximo global.\n"
     ]
    },
    {
     "data": {
      "text/plain": [
       "[<matplotlib.lines.Line2D at 0x2f6b9dd84a0>]"
      ]
     },
     "execution_count": 173,
     "metadata": {},
     "output_type": "execute_result"
    },
    {
     "data": {
      "image/png": "[encoded data removed]",
      "text/plain": [
       "<Figure size 600x300 with 1 Axes>"
      ]
     },
     "metadata": {},
     "output_type": "display_data"
    }
   ],
   "source": [
    "import sympy as sp\n",
    "\n",
    "sp.var(\"x\")\n",
    "def f(x) : \n",
    "    return 2 - 3*x + (8 - 2*x**2)**0.5\n",
    "dy = sp.diff (f(x), x) \n",
    "pc = sp.solve(dy, x)\n",
    "print (\"El punto crítico está en \" +str(pc[0]))\n",
    "\n",
    "d2y = sp.diff(dy, x)\n",
    "d2y_evaluado = d2y.subs(x, pc[0])\n",
    "if d2y_evaluado > 0 : \n",
    "    print (\"El punto crítico es un mínimo global.\")\n",
    "else :\n",
    "    print (\"El punto crítico es un máximo global.\")\n",
    "\n",
    "import numpy as np\n",
    "x = np.linspace(-2, 2, 1000)\n",
    "plt.figure(figsize = (6,3))\n",
    "plt.plot(x, f(x))\n",
    "plt.grid()\n",
    "plt.plot(pc[0], f(pc[0]), \"*r\")"
   ]
  },
  {
   "cell_type": "markdown",
   "id": "06c5d040-768b-4c9a-8c64-96ae4f47825b",
   "metadata": {},
   "source": [
    "#### EJERCICIO 4\n",
    "$$ f(x) = (1/4)x^4 + (1/3)x^3 - x^2 $$"
   ]
  },
  {
   "cell_type": "code",
   "execution_count": 177,
   "id": "adaa35b7-6df0-4ec9-b91c-bb7d82a601e3",
   "metadata": {},
   "outputs": [
    {
     "name": "stdout",
     "output_type": "stream",
     "text": [
      "[-2.00000000000000, 0.0, 1.00000000000000]\n",
      "El primer punto crítico es un mínimo global y es : 6.00000000000000\n",
      "El segundo punto crítico es un máximo local y es : -2\n",
      "El tercer punto crítico es un mínimo local y es: 3.00000000000000\n"
     ]
    },
    {
     "data": {
      "text/plain": [
       "[<matplotlib.lines.Line2D at 0x2f6b9eebc50>]"
      ]
     },
     "execution_count": 177,
     "metadata": {},
     "output_type": "execute_result"
    },
    {
     "data": {
      "image/png": "[encoded data removed]",
      "text/plain": [
       "<Figure size 600x300 with 1 Axes>"
      ]
     },
     "metadata": {},
     "output_type": "display_data"
    }
   ],
   "source": [
    "import sympy as sp\n",
    "\n",
    "sp.var(\"x\")\n",
    "def f(x) : \n",
    "    return (1/4)*x**4 + (1/3)*x**3 - x**2\n",
    "dy = sp.diff (f(x), x) \n",
    "pc = sp.solve(dy, x)\n",
    "print (pc)\n",
    "\n",
    "d2y = sp.diff(dy, x)\n",
    "d2y_evaluado = d2y.subs(x, pc[0])\n",
    "d2y_evaluado1 = d2y.subs(x, pc[1])\n",
    "d2y_evaluado2 = d2y.subs(x, pc[2])\n",
    "\n",
    "if d2y_evaluado > 0 : \n",
    "    print (\"El primer punto crítico es un mínimo global y es : \" +str(d2y_evaluado))\n",
    "else :\n",
    "    print (\"El primer punto crítico es un máximo global y es: \" +str(d2y_evaluado))\n",
    "    \n",
    "if d2y_evaluado1 > 0 : \n",
    "    print (\"El segundo punto crítico es un mínimo local y es : \" +str(d2y_evaluado1))\n",
    "else :\n",
    "    print (\"El segundo punto crítico es un máximo local y es : \" +str(d2y_evaluado1))\n",
    "\n",
    "if d2y_evaluado2 > 0 : \n",
    "    print (\"El tercer punto crítico es un mínimo local y es: \" +str(d2y_evaluado2))\n",
    "else :\n",
    "    print (\"El tercer punto crítico es un máximo local y es: \" +str(d2y_evaluado2))\n",
    "\n",
    "\n",
    "import numpy as np\n",
    "x = np.linspace(-3, 1.7, 1000)\n",
    "plt.figure(figsize = (6,3))\n",
    "plt.plot(x, f(x))\n",
    "plt.grid()\n",
    "plt.plot(pc[0], f(pc[0]), \"*r\")\n",
    "plt.plot(pc[1], f(pc[1]), \"*g\")\n",
    "plt.plot(pc[2], f(pc[2]), \"*b\")"
   ]
  },
  {
   "cell_type": "code",
   "execution_count": null,
   "id": "bc32e0f8-6991-4f18-8ca0-6b0f656d1e94",
   "metadata": {},
   "outputs": [],
   "source": []
  }
 ],
 "metadata": {
  "kernelspec": {
   "display_name": "Python 3 (ipykernel)",
   "language": "python",
   "name": "python3"
  },
  "language_info": {
   "codemirror_mode": {
    "name": "ipython",
    "version": 3
   },
   "file_extension": ".py",
   "mimetype": "text/x-python",
   "name": "python",
   "nbconvert_exporter": "python",
   "pygments_lexer": "ipython3",
   "version": "3.12.4"
  }
 },
 "nbformat": 4,
 "nbformat_minor": 5
}
