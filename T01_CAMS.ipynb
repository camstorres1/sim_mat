{
 "cells": [
  {
   "cell_type": "markdown",
   "metadata": {},
   "source": [
    "*Camila Torres Rodriguez*\n",
    "\n",
    "*13 de Agosto de 2024*\n",
    "\n",
    "*T01*"
   ]
  },
  {
   "cell_type": "markdown",
   "metadata": {},
   "source": [
    "# Nanotecnología en la limpieza de agua contaminada\n",
    "---\n",
    "\n",
    "La ciencia cada vez avanza más en temas tecnológicos, como en los temas relacionados con en medio ambiente. Una de las mayores preocupaciones de la humanidad es el tema del agua, ya que cada vez hay más consumo de agua potable y menos limpieza de esta misma. A lo largo de los años se han explorado procesos para poder limpiar el agua efectivamente para con esto llegar a un proceso tangible, simple y porsupuesto que economicamente sustentable. Aquí es donde la nanotecnología ha emergido en el campo ambiental, ya que propone alternativas fáciles de replicar, a grande escala para solucionar problemas puntuales, aunque el reto sigue siendo el costo de los procesos ya que se requieren laboratorios y aparatos específicos de alto costo. \n",
    "\n",
    "El agua contaminada es un tema que nos concierne a todos, pero que en la actualidad en muy pocos hay un interés en hacer algo al respecto. Se requiere diseño, ingenio, dinero y organización para poder llegar a la resolución de este problema. Ya hay países logrando importantes avances tecnológicos en el tratamiento de agua, los países líderes en este tema son: \n",
    "\n",
    "1. **Arabia Saudita**\n",
    "   - Líder actual en la desalinización con energía solar\n",
    "2. **Israel**\n",
    "   - Líder en la conservación de agua, ya que recicla el 85% de sus aguas residuales. Gana aproximadamente 2 mil millones de dólares al año al exportar su agua a otros paises. \n",
    "3. **Grecia**\n",
    "   - Desalinización de agua por medio de energía geotérmica a bajo costo. \n",
    "4. **Reino Unido**\n",
    "   - Líder en tecnología inteligente de medición de agua, que permite a la mayoría de sus habitantes monitorear su consumo de agua y disminuirlo.\n",
    "\n",
    "La nanotecnología se ha ido desenvolviendo año tras año para la busqueda de nuevas alternativas para encontrar los mejores procesos para el reciclaje de aguas residuales, limpieza de aguas sucias, desanilinización y potabilización. Esto con el objetivo de poder llevar agua potable a todas las personas, ya que, anualmente \n",
    "\n",
    "*1.2 millones de personas mueren a causa de beber agua contaminada*\n",
    "\n",
    "y el \n",
    "\n",
    "*29% de la población mundial no tiene acceso a agua potable.*\n",
    "\n",
    "Por esto es que investigadores se han dado a la tarea de la investigación para obtener alternativas sustentables, replicables y economicamente accesibles para solucionar el problema de la falta de agua limpia. En el campo de la nanotecnología se han propuestas varias ides u opciones para ayudar a esta problemática pero la más prometedora serían los nanofiltros de grafeno.\n",
    "\n",
    "## Nanofiltros de grafeno\n",
    "\n",
    "Los nanofiltros de grafeno son una capa de átomos de carbono con una estructura cristalina en forma hexagonal, la ventaja de estos nanofiltros al ser utilizados en la industria es su facilidad de replica, su bajo costo de producción, su flexibilidad y su no toxicidad. \n",
    "\n",
    "La manera en la que funciona el nanofiltro de grafeno es funcionalizandolo para que el agua pueda pasar (naturalmente es impermeable) y al mismo tiempo, retenga sustancias que se requiere que no se filtren. Se han realizado varios estudios en los que de manera exitosa se ha conseguido impermeabilizar la membrana para ciertas sustancias y permeable para el agua. Se puede observar un nanofiltro de grafeno en la siguiente imagen: \n",
    "\n",
    "<img src=\"grafeno.jpg\">\n",
    "Imagen de Univ. de Manchester, BBC News, 2017\n"
   ]
  },
  {
   "cell_type": "markdown",
   "metadata": {},
   "source": [
    "Pero, ¿cómo se puede saber si el agua se encuentra limpia o potable? En las pruebas realizadas es necesario la medición del equilibrio del agua o el **Índice de Langelier**. Para realizar este cáluclo se requiere mediciones previas de temperatura, pH, dureza cálcica, alcalinidad y sólidos totales disueltos en el agua muestreada. Una vez teniendo esos mediciones, se obtienen datos precisos de tablas predetrminadas y los valores se sustituyen en la siguiente ecuación:\n",
    "\n",
    "$$ IL= pH - pHs $$\n",
    "\n",
    "Lo que nos dice que el índice de Langelier es igual a la diferencia entre el pH del agua considerada y su pH calculado. \n",
    "\n",
    "Aunque se han obtenido avances, sigue siendo algo nuevo y por el momento no replicado a escala industrial ya que sigue en desarrollo y en constantes mejoras para poder obtener el mejor producto posible. Sigue en vías de crecimiento y promete un futuro en donde todas las personas tengan acceso a agua limpia y potable. \n",
    "\n",
    "--- "
   ]
  },
  {
   "cell_type": "markdown",
   "metadata": {},
   "source": [
    "### Referencias"
   ]
  },
  {
   "cell_type": "markdown",
   "metadata": {},
   "source": [
    "https://ecologiadigital.bio/cuales-son-los-paises-con-la-mayor-contaminacion-del-agua-en-el-mundo/\n",
    "\n",
    "https://bosstech.pe/paises-lideres-referentes-cuidado-agua/ \n",
    "\n",
    "https://www.fundacionaquae.org/potabilizar-agua-nanociencia/\n",
    "\n",
    "https://www.bbc.com/mundo/noticias-39481793\n",
    "\n",
    "https://www.hannainst.es/blog/790/equilibrio-del-agua-indice-de-langelier"
   ]
  }
 ],
 "metadata": {
  "kernelspec": {
   "display_name": "Python 3 (ipykernel)",
   "language": "python",
   "name": "python3"
  },
  "language_info": {
   "codemirror_mode": {
    "name": "ipython",
    "version": 3
   },
   "file_extension": ".py",
   "mimetype": "text/x-python",
   "name": "python",
   "nbconvert_exporter": "python",
   "pygments_lexer": "ipython3",
   "version": "3.12.4"
  }
 },
 "nbformat": 4,
 "nbformat_minor": 4
}
