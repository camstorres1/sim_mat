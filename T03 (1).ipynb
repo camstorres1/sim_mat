{
 "cells": [
  {
   "cell_type": "markdown",
   "id": "6dbc5e54-a814-440e-a196-941559601e03",
   "metadata": {},
   "source": [
    "# TAREA 3 SYMPY\n",
    "## Camila Torres Rodríguez\n",
    "## 05/09/2024"
   ]
  },
  {
   "cell_type": "markdown",
   "id": "4054183c-f6f9-4cff-835f-f40ef045de16",
   "metadata": {},
   "source": [
    "### 1. El perímetro de un triángulo isósceles es de 20 cm. Imagina que este triángulo rota centrado en su eje de simetría para formar la ilusión de un cono. ¿Cuánto deben medir sus lados para que el volumen generado por la rotación sea el mayor posible?"
   ]
  },
  {
   "cell_type": "code",
   "execution_count": 98,
   "id": "e6fe88cc-25da-4916-bc94-018340007a38",
   "metadata": {},
   "outputs": [
    {
     "name": "stdout",
     "output_type": "stream",
     "text": [
      "La base del rectángulo debe medir 8.00000000000000 y cada lado del rectángulo debe medir 6.00000000000000\n"
     ]
    }
   ],
   "source": [
    "import sympy as sp\n",
    "\n",
    "sp.var(\"x\")\n",
    "\n",
    "def per(x) :\n",
    "    return (-x + 20) / 2\n",
    "\n",
    "r = x/2\n",
    "y = per(x)\n",
    "h = sp.sqrt(y**2 - (x/2)**2)\n",
    "V = (sp.pi * r**2 *h)/3\n",
    "\n",
    "dV = sp.diff(V, x)\n",
    "pc_x = sp.solve(dV, x)\n",
    "\n",
    "#Esta linea me lo corrigio una IA ya que me salía que los valores de x y \"y\" eran 10 y 0 respectivamente.\n",
    "pc_x = [sol.evalf() for sol in pc_x if sol.is_real and sol > 0 and sol < 20]\n",
    "\n",
    "valor_x = pc_x[0]\n",
    "valor_y = per(valor_x)\n",
    "\n",
    "print (\"La base del rectángulo debe medir \" +str(valor_x), \"y cada lado del rectángulo debe medir \" +str(valor_y))"
   ]
  },
  {
   "cell_type": "markdown",
   "id": "2d0a78f0-ec98-4ae1-a3c4-7c6968fbf118",
   "metadata": {},
   "source": [
    "---"
   ]
  },
  {
   "cell_type": "markdown",
   "id": "ff3a2015-9154-43f6-b9d4-cd0be9030113",
   "metadata": {},
   "source": [
    "### 2. Disponemos de una barra de aluminio de 6 metros para construir una portería de fútbol en un parque. Es una portería simple que tendrá sólo dos postes y el travesaño:\n",
    "### Si queremos que el área de la portería sea máxima, ¿cuánto deben medir los postes y el travesaño?"
   ]
  },
  {
   "cell_type": "code",
   "execution_count": 107,
   "id": "4bee2f0a-2a88-42dc-95b9-920668eaba1c",
   "metadata": {},
   "outputs": [
    {
     "name": "stdout",
     "output_type": "stream",
     "text": [
      "La medida de los postes es 3/2 y el travesaño medirá 3 para tener un área máxima de 9/2\n"
     ]
    }
   ],
   "source": [
    "import sympy as sp\n",
    "\n",
    "sp.var(\"p\")\n",
    "\n",
    "def porteria(p) :\n",
    "    return -2*p + 6\n",
    "\n",
    "t = porteria(p)\n",
    "A = p * t\n",
    "\n",
    "dA = sp.diff(A, p)\n",
    "pc_p = sp.solve(dA, p)\n",
    "\n",
    "valor_p = pc_p[0]\n",
    "valor_t = porteria(valor_p)\n",
    "area_max = A.subs({p: valor_p, t: valor_t})\n",
    "\n",
    "print (\"La medida de los postes es \" +str(valor_p), \"y el travesaño medirá \" +str(valor_y), \"para tener un área máxima de \" +str(area_max))"
   ]
  },
  {
   "cell_type": "markdown",
   "id": "c9bf7e49-e322-4301-b495-95a82c4e9329",
   "metadata": {},
   "source": [
    "---"
   ]
  },
  {
   "cell_type": "markdown",
   "id": "4157532d-9b82-42fc-8463-77024b69f417",
   "metadata": {},
   "source": [
    "### 3. Una viga de madera tiene una sección transversal rectangular de altura h y ancho w. La resistecia S de la viga es directamente proporcional al ancho y al cuadrado de su altura (S=kwh^2), donde k es una constante de proporcionalidad. ¿Cuáles son las dimensiones de la viga mas fuerte que puede cortarse a partir de un leño redondo de 24 pulgadas de diámetro?"
   ]
  },
  {
   "cell_type": "code",
   "execution_count": 139,
   "id": "5df043e9-69ed-4ed4-bcf6-a62656a60aae",
   "metadata": {},
   "outputs": [
    {
     "name": "stdout",
     "output_type": "stream",
     "text": [
      "La altura de la sección trannsversal de la viga es de [8.00000000000000] y el ancho 22.6274169979695\n"
     ]
    }
   ],
   "source": [
    "import sympy as sp\n",
    "\n",
    "sp.var(\"h\")\n",
    "\n",
    "def sec_trans(h) :\n",
    "    return sp.sqrt(-h**2 + 24**2)\n",
    "\n",
    "w = sec_trans(h)\n",
    "S = w * h**2\n",
    "\n",
    "dS = sp.diff(S, h)\n",
    "pc_h = sp.solve(dS, h)\n",
    "\n",
    "pc_h = [sol.evalf() for sol in pc_x if sol.is_real and sol > 0]\n",
    "\n",
    "valor_h = pc_h[0]\n",
    "pc_w = sec_trans(valor_h)\n",
    "\n",
    "print (\"La altura de la sección trannsversal de la viga es de \" +str(pc_h), \"y el ancho \" +str(pc_w))"
   ]
  },
  {
   "cell_type": "markdown",
   "id": "4716fecf-505d-4c86-9895-b33df74364c2",
   "metadata": {},
   "source": [
    "---"
   ]
  },
  {
   "cell_type": "markdown",
   "id": "7d492867-7894-4240-90c8-7f4b6d44096c",
   "metadata": {},
   "source": [
    "### 4. Una fuente luminosa se localiza sobre el centro de una mesa circular de 4 pies de diámetro. Encontrar la altura h de la fuente luminosa de modo tal que la iluminación I es en el perímetro de la mesa sea máxima si I=k(sin a)/s^2, donde s es la altura oblicua y a es el ángulo al cual la luz incide sobre la mesa y k es una constante."
   ]
  },
  {
   "cell_type": "code",
   "execution_count": 157,
   "id": "6b54489b-cb12-4c79-9840-c742f07ff55a",
   "metadata": {},
   "outputs": [
    {
     "data": {
      "text/plain": [
       "[0]"
      ]
     },
     "execution_count": 157,
     "metadata": {},
     "output_type": "execute_result"
    }
   ],
   "source": [
    "import sympy as sp\n",
    "\n",
    "sp.var(\"h\")\n",
    "sp.var(\"k\")\n",
    "\n",
    "def s(h) : \n",
    "    return sp.sqrt(h**2 + r**2)\n",
    "\n",
    "r = 2\n",
    "sin_a = r / s(h)\n",
    "\n",
    "I = (k * sin_a) / s(h)**2\n",
    "\n",
    "dI = sp.diff(I, h)\n",
    "pc_I = sp.solve(dI, h)\n",
    "\n",
    "pc_I"
   ]
  },
  {
   "cell_type": "markdown",
   "id": "efe95532-da35-4854-9b8d-ff48da26a352",
   "metadata": {},
   "source": [
    "---"
   ]
  },
  {
   "cell_type": "markdown",
   "id": "bb36c3a0-31b6-4c40-ba67-abf7b96491f9",
   "metadata": {},
   "source": [
    "### 5. Se diseña un componente para deslizar un bloque de acero con peso W=10N a través de una mesa y sobre una canaleta. Se opone al movimiento del bloque una fuerzade fricción proporcional a su peso aarente (sea k=0.1 la constante de proporcionalidad). Determinar la fuerza mínima f necesaria para deslizar el bloque y encontrar el valor correspondiente de theta."
   ]
  },
  {
   "cell_type": "code",
   "execution_count": 165,
   "id": "f6c0a9a9-e187-4eea-9631-39ab4627cc7d",
   "metadata": {},
   "outputs": [
    {
     "name": "stdout",
     "output_type": "stream",
     "text": [
      "El valor de theta es: [1.47112767430373]\n"
     ]
    }
   ],
   "source": [
    "import sympy as sp\n",
    "\n",
    "w = 10\n",
    "k = 0.1\n",
    "\n",
    "#Fuerza_fricción = k * w * cos(x)\n",
    "#Fuerza_minima = w * sin(x)\n",
    "\n",
    "F_t = k * w * sp.cos (x) + w * sp.sin(x)\n",
    "\n",
    "dF_t = sp.diff(F_t, x)\n",
    "pc_x = sp.solve(dF_t, x)\n",
    "\n",
    "pc_x = [sol.evalf() for sol in pc_x if sol.is_real and sol > 0]\n",
    "print (f\"El valor de theta es: {pc_x}\")\n",
    "\n",
    "Fuerza = F_t.subs(x, pc_x)\n"
   ]
  },
  {
   "cell_type": "code",
   "execution_count": null,
   "id": "71ac2bd3-ccbb-494c-a7c6-bd14dfb785ac",
   "metadata": {},
   "outputs": [],
   "source": []
  }
 ],
 "metadata": {
  "kernelspec": {
   "display_name": "Python 3 (ipykernel)",
   "language": "python",
   "name": "python3"
  },
  "language_info": {
   "codemirror_mode": {
    "name": "ipython",
    "version": 3
   },
   "file_extension": ".py",
   "mimetype": "text/x-python",
   "name": "python",
   "nbconvert_exporter": "python",
   "pygments_lexer": "ipython3",
   "version": "3.12.4"
  }
 },
 "nbformat": 4,
 "nbformat_minor": 5
}
