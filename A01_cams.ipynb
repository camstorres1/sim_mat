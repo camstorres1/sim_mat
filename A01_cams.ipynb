{
 "cells": [
  {
   "cell_type": "markdown",
   "id": "304177e2-68d9-47bc-b4b2-f2ac8f7086ca",
   "metadata": {},
   "source": [
    "# TAREA 1"
   ]
  },
  {
   "cell_type": "markdown",
   "id": "9e615602-ec78-48ab-91ee-371d87e46066",
   "metadata": {},
   "source": [
    "## Entrada a, salida si es primo o no "
   ]
  },
  {
   "cell_type": "code",
   "execution_count": 5,
   "id": "ab06e8bf-9174-46c2-9c79-6f34076eb871",
   "metadata": {},
   "outputs": [
    {
     "name": "stdout",
     "output_type": "stream",
     "text": [
      "No es primo\n"
     ]
    }
   ],
   "source": [
    "a = 7\n",
    "\n",
    "if (a%2) == 0 : \n",
    "    print ( \"Es primo\" )\n",
    "else : \n",
    "    print(\"No es primo\")"
   ]
  },
  {
   "cell_type": "markdown",
   "id": "2d339fe7-571f-4144-8b6f-d33a611dc656",
   "metadata": {},
   "source": [
    "## Entrada a, salida a!"
   ]
  },
  {
   "cell_type": "code",
   "execution_count": 8,
   "id": "77fdadec-6313-410c-bf0d-4f19edd1477b",
   "metadata": {},
   "outputs": [
    {
     "name": "stdout",
     "output_type": "stream",
     "text": [
      "El factorial de 5 es 120\n"
     ]
    }
   ],
   "source": [
    "a = 5\n",
    "i = 1\n",
    "n=a\n",
    "\n",
    "while i < a :\n",
    "    n *= i\n",
    "    i += 1\n",
    "print (f\"El factorial de {a} es {n}\")"
   ]
  }
 ],
 "metadata": {
  "kernelspec": {
   "display_name": "Python 3 (ipykernel)",
   "language": "python",
   "name": "python3"
  },
  "language_info": {
   "codemirror_mode": {
    "name": "ipython",
    "version": 3
   },
   "file_extension": ".py",
   "mimetype": "text/x-python",
   "name": "python",
   "nbconvert_exporter": "python",
   "pygments_lexer": "ipython3",
   "version": "3.12.4"
  }
 },
 "nbformat": 4,
 "nbformat_minor": 5
}
